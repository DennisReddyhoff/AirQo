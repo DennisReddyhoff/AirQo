{
 "cells": [
  {
   "cell_type": "code",
   "execution_count": 4,
   "metadata": {},
   "outputs": [],
   "source": [
    "import redis\n",
    "import msgpack\n",
    "import msgpack_numpy as mnp\n",
    "pool = redis.ConnectionPool(host='34.69.39.105', port=6379, db=0)\n",
    "r = redis.Redis(connection_pool=pool)"
   ]
  },
  {
   "cell_type": "code",
   "execution_count": 140,
   "metadata": {},
   "outputs": [],
   "source": [
    "import numpy as np\n",
    "from bokeh.models import Circle, ColumnDataSource,Plot,ColorBar\n",
    "from bokeh.plotting import figure, save\n",
    "from bokeh.transform import linear_cmap\n",
    "from bokeh.palettes import YlOrBr\n",
    "from bokeh.tile_providers import CARTODBPOSITRON, get_provider\n",
    "import geopandas as gpd"
   ]
  },
  {
   "cell_type": "code",
   "execution_count": 141,
   "metadata": {},
   "outputs": [],
   "source": [
    "def merc(lon, lat):\n",
    "    ''' Get mercator projection co-ordinates from latitude and logitude'''\n",
    "    x=[]\n",
    "    y=[]\n",
    "    r_major = 6378137.000\n",
    "    for i in range(len(lon)):\n",
    "        x.append(r_major * math.radians(lon[i])) \n",
    "        scale = x[i]/lon[i]\n",
    "        y.append(180.0/np.pi * np.log(np.tan(np.pi/4.0 + \n",
    "         lat[i]* (np.pi/180.0)/2.0)) * scale)\n",
    "    return x, y"
   ]
  },
  {
   "cell_type": "code",
   "execution_count": 142,
   "metadata": {},
   "outputs": [],
   "source": [
    "# Get data from redis server\n",
    "predmeans = mnp.unpackb(r.get('predmeans'), raw=True)\n",
    "predvars = mnp.unpackb(r.get('predvars'), raw=True)\n",
    "Xtest = mnp.unpackb(r.get('Xtest'), raw=True)\n",
    "Xtraining = mnp.unpackb(r.get('Xtraining'), raw=True)"
   ]
  },
  {
   "cell_type": "code",
   "execution_count": 143,
   "metadata": {},
   "outputs": [],
   "source": [
    "# Get latitude and longitude from Xtest and convert to mercator\n",
    "lon = []\n",
    "lat = []\n",
    "for i in range(len(Xtest[0][1])):\n",
    "    lon.extend(Xtest[0][i].tolist())\n",
    "    lat.extend(Xtest[1][i].tolist())\n",
    "x, y = merc(lon,lat)"
   ]
  },
  {
   "cell_type": "code",
   "execution_count": 146,
   "metadata": {},
   "outputs": [
    {
     "data": {
      "text/plain": [
       "array([45.60215392])"
      ]
     },
     "execution_count": 146,
     "metadata": {},
     "output_type": "execute_result"
    }
   ],
   "source": [
    "# Create array of sizes for markers from uncertainty predictions\n",
    "sizes = 15*np.log(1 + 300/np.sqrt(predvars))\n",
    "min(sizes)"
   ]
  },
  {
   "cell_type": "code",
   "execution_count": 147,
   "metadata": {},
   "outputs": [
    {
     "data": {
      "text/plain": [
       "'C:\\\\Projects\\\\Maps\\\\newmap.html'"
      ]
     },
     "execution_count": 147,
     "metadata": {},
     "output_type": "execute_result"
    }
   ],
   "source": [
    "# Get map tiles\n",
    "tile_provider = get_provider(CARTODBPOSITRON)\n",
    "\n",
    "# Create ColumnDataSource from coordinates, sizes and predicted means\n",
    "source = ColumnDataSource(dict(x=x, y=y, sizes=sizes, means=predmeans))\n",
    "\n",
    "# Create linear colour map for pollution data\n",
    "mapper = linear_cmap(field_name='means', palette=YlOrBr[9][::-1] ,low=0 ,high=max(predmeans)[0])\n",
    "\n",
    "# Plot figure and add tiles \n",
    "mercator = figure(title=None, x_range=(min(x), max(x)), y_range=(min(y), max(y)),\n",
    "           x_axis_type=\"mercator\", y_axis_type=\"mercator\")\n",
    "mercator.add_tile(tile_provider)\n",
    "\n",
    "# Create and plot glyphs for predictions\n",
    "glyph = Circle(x=\"x\", y=\"y\", radius=\"sizes\", line_color=mapper, fill_color=mapper, fill_alpha=.8, line_width=1)\n",
    "mercator.add_glyph(source, glyph)\n",
    "\n",
    "# Add colour bar \n",
    "color_bar = ColorBar(color_mapper=mapper['transform'], width=8,  location=(0,0))\n",
    "mercator.add_layout(color_bar, 'right')\n",
    "\n",
    "outfp = r\"../newmap.html\"\n",
    "\n",
    "# Save the plot by passing the plot -object and output path\n",
    "save(obj=mercator, filename=outfp)"
   ]
  },
  {
   "cell_type": "code",
   "execution_count": null,
   "metadata": {},
   "outputs": [],
   "source": []
  },
  {
   "cell_type": "code",
   "execution_count": null,
   "metadata": {},
   "outputs": [],
   "source": []
  }
 ],
 "metadata": {
  "kernelspec": {
   "display_name": "Python [conda env:geo_env]",
   "language": "python",
   "name": "conda-env-geo_env-py"
  },
  "language_info": {
   "codemirror_mode": {
    "name": "ipython",
    "version": 3
   },
   "file_extension": ".py",
   "mimetype": "text/x-python",
   "name": "python",
   "nbconvert_exporter": "python",
   "pygments_lexer": "ipython3",
   "version": "3.8.2"
  }
 },
 "nbformat": 4,
 "nbformat_minor": 4
}
