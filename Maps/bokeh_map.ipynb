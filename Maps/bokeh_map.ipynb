{
    "cells": [
        {
            "cell_type": "code",
            "execution_count": 1,
            "metadata": {
                "id": "c4ad859f-f46b-4ec9-aad2-e202fab72379",
                "focus": true
            },
            "outputs": [],
            "source": [
                "import redis\n",
                "import msgpack\n",
                "import msgpack_numpy as mnp\n",
                "pool = redis.ConnectionPool(host='34.69.39.105', port=6379, db=0)\n",
                "r = redis.Redis(connection_pool=pool)"
            ]
        },
        {
            "cell_type": "code",
            "execution_count": 2,
            "metadata": {
                "id": "5bce16f0-361d-4b5c-83a6-76a554222827",
                "focus": false
            },
            "outputs": [],
            "source": [
                "import numpy as np\n",
                "from bokeh.models import Circle, ColumnDataSource,Plot,ColorBar, HoverTool, CustomJS\n",
                "from bokeh.plotting import figure, save\n",
                "from bokeh.transform import linear_cmap\n",
                "from bokeh.palettes import YlOrBr\n",
                "from bokeh.tile_providers import CARTODBPOSITRON, get_provider\n",
                "from bokeh.io import output_file\n",
                "import geopandas as gpd"
            ]
        },
        {
            "cell_type": "code",
            "execution_count": 3,
            "metadata": {
                "id": "dec3aa1e-3331-4cb0-a7eb-073fa07677b3",
                "focus": false
            },
            "outputs": [],
            "source": [
                "def merc(lon, lat):\n",
                "    ''' Get mercator projection co-ordinates from latitude and logitude'''\n",
                "    x=[]\n",
                "    y=[]\n",
                "    r_major = 6378137.000\n",
                "    for i in range(len(lon)):\n",
                "        x.append(r_major * np.radians(lon[i])) \n",
                "        scale = x[i]/lon[i]\n",
                "        y.append(180.0/np.pi * np.log(np.tan(np.pi/4.0 + \n",
                "         lat[i]* (np.pi/180.0)/2.0)) * scale)\n",
                "    return x, y"
            ]
        },
        {
            "cell_type": "code",
            "execution_count": 4,
            "metadata": {
                "id": "4826a7a5-5bf7-485b-81a7-e9f54907e434",
                "focus": false
            },
            "outputs": [
                {
                    "ename": "ConnectionError",
                    "evalue": "Error 10060 connecting to 34.69.39.105:6379. A connection attempt failed because the connected party did not properly respond after a period of time, or established connection failed because connected host has failed to respond.",
                    "output_type": "error",
                    "traceback": [
                        "\u001b[1;31m---------------------------------------------------------------------------\u001b[0m",
                        "\u001b[1;31mTimeoutError\u001b[0m                              Traceback (most recent call last)",
                        "\u001b[1;32m~\\Anaconda3\\envs\\geo_env\\lib\\site-packages\\redis\\connection.py\u001b[0m in \u001b[0;36mconnect\u001b[1;34m(self)\u001b[0m\n\u001b[0;32m    551\u001b[0m         \u001b[1;32mtry\u001b[0m\u001b[1;33m:\u001b[0m\u001b[1;33m\u001b[0m\u001b[1;33m\u001b[0m\u001b[0m\n\u001b[1;32m--> 552\u001b[1;33m             \u001b[0msock\u001b[0m \u001b[1;33m=\u001b[0m \u001b[0mself\u001b[0m\u001b[1;33m.\u001b[0m\u001b[0m_connect\u001b[0m\u001b[1;33m(\u001b[0m\u001b[1;33m)\u001b[0m\u001b[1;33m\u001b[0m\u001b[1;33m\u001b[0m\u001b[0m\n\u001b[0m\u001b[0;32m    553\u001b[0m         \u001b[1;32mexcept\u001b[0m \u001b[0msocket\u001b[0m\u001b[1;33m.\u001b[0m\u001b[0mtimeout\u001b[0m\u001b[1;33m:\u001b[0m\u001b[1;33m\u001b[0m\u001b[1;33m\u001b[0m\u001b[0m\n",
                        "\u001b[1;32m~\\Anaconda3\\envs\\geo_env\\lib\\site-packages\\redis\\connection.py\u001b[0m in \u001b[0;36m_connect\u001b[1;34m(self)\u001b[0m\n\u001b[0;32m    608\u001b[0m         \u001b[1;32mif\u001b[0m \u001b[0merr\u001b[0m \u001b[1;32mis\u001b[0m \u001b[1;32mnot\u001b[0m \u001b[1;32mNone\u001b[0m\u001b[1;33m:\u001b[0m\u001b[1;33m\u001b[0m\u001b[1;33m\u001b[0m\u001b[0m\n\u001b[1;32m--> 609\u001b[1;33m             \u001b[1;32mraise\u001b[0m \u001b[0merr\u001b[0m\u001b[1;33m\u001b[0m\u001b[1;33m\u001b[0m\u001b[0m\n\u001b[0m\u001b[0;32m    610\u001b[0m         \u001b[1;32mraise\u001b[0m \u001b[0msocket\u001b[0m\u001b[1;33m.\u001b[0m\u001b[0merror\u001b[0m\u001b[1;33m(\u001b[0m\u001b[1;34m\"socket.getaddrinfo returned an empty list\"\u001b[0m\u001b[1;33m)\u001b[0m\u001b[1;33m\u001b[0m\u001b[1;33m\u001b[0m\u001b[0m\n",
                        "\u001b[1;32m~\\Anaconda3\\envs\\geo_env\\lib\\site-packages\\redis\\connection.py\u001b[0m in \u001b[0;36m_connect\u001b[1;34m(self)\u001b[0m\n\u001b[0;32m    596\u001b[0m                 \u001b[1;31m# connect\u001b[0m\u001b[1;33m\u001b[0m\u001b[1;33m\u001b[0m\u001b[1;33m\u001b[0m\u001b[0m\n\u001b[1;32m--> 597\u001b[1;33m                 \u001b[0msock\u001b[0m\u001b[1;33m.\u001b[0m\u001b[0mconnect\u001b[0m\u001b[1;33m(\u001b[0m\u001b[0msocket_address\u001b[0m\u001b[1;33m)\u001b[0m\u001b[1;33m\u001b[0m\u001b[1;33m\u001b[0m\u001b[0m\n\u001b[0m\u001b[0;32m    598\u001b[0m \u001b[1;33m\u001b[0m\u001b[0m\n",
                        "\u001b[1;31mTimeoutError\u001b[0m: [WinError 10060] A connection attempt failed because the connected party did not properly respond after a period of time, or established connection failed because connected host has failed to respond",
                        "\nDuring handling of the above exception, another exception occurred:\n",
                        "\u001b[1;31mConnectionError\u001b[0m                           Traceback (most recent call last)",
                        "\u001b[1;32m<ipython-input-4-e953b8cf01a6>\u001b[0m in \u001b[0;36m<module>\u001b[1;34m\u001b[0m\n\u001b[0;32m      1\u001b[0m \u001b[1;31m# Get data from redis server\u001b[0m\u001b[1;33m\u001b[0m\u001b[1;33m\u001b[0m\u001b[1;33m\u001b[0m\u001b[0m\n\u001b[1;32m----> 2\u001b[1;33m \u001b[0mpredmeans\u001b[0m \u001b[1;33m=\u001b[0m \u001b[0mmnp\u001b[0m\u001b[1;33m.\u001b[0m\u001b[0munpackb\u001b[0m\u001b[1;33m(\u001b[0m\u001b[0mr\u001b[0m\u001b[1;33m.\u001b[0m\u001b[0mget\u001b[0m\u001b[1;33m(\u001b[0m\u001b[1;34m'predmeans'\u001b[0m\u001b[1;33m)\u001b[0m\u001b[1;33m,\u001b[0m \u001b[0mraw\u001b[0m\u001b[1;33m=\u001b[0m\u001b[1;32mTrue\u001b[0m\u001b[1;33m)\u001b[0m\u001b[1;33m\u001b[0m\u001b[1;33m\u001b[0m\u001b[0m\n\u001b[0m\u001b[0;32m      3\u001b[0m \u001b[0mpredvars\u001b[0m \u001b[1;33m=\u001b[0m \u001b[0mmnp\u001b[0m\u001b[1;33m.\u001b[0m\u001b[0munpackb\u001b[0m\u001b[1;33m(\u001b[0m\u001b[0mr\u001b[0m\u001b[1;33m.\u001b[0m\u001b[0mget\u001b[0m\u001b[1;33m(\u001b[0m\u001b[1;34m'predvars'\u001b[0m\u001b[1;33m)\u001b[0m\u001b[1;33m,\u001b[0m \u001b[0mraw\u001b[0m\u001b[1;33m=\u001b[0m\u001b[1;32mTrue\u001b[0m\u001b[1;33m)\u001b[0m\u001b[1;33m\u001b[0m\u001b[1;33m\u001b[0m\u001b[0m\n\u001b[0;32m      4\u001b[0m \u001b[0mXtest\u001b[0m \u001b[1;33m=\u001b[0m \u001b[0mmnp\u001b[0m\u001b[1;33m.\u001b[0m\u001b[0munpackb\u001b[0m\u001b[1;33m(\u001b[0m\u001b[0mr\u001b[0m\u001b[1;33m.\u001b[0m\u001b[0mget\u001b[0m\u001b[1;33m(\u001b[0m\u001b[1;34m'Xtest'\u001b[0m\u001b[1;33m)\u001b[0m\u001b[1;33m,\u001b[0m \u001b[0mraw\u001b[0m\u001b[1;33m=\u001b[0m\u001b[1;32mTrue\u001b[0m\u001b[1;33m)\u001b[0m\u001b[1;33m\u001b[0m\u001b[1;33m\u001b[0m\u001b[0m\n\u001b[0;32m      5\u001b[0m \u001b[0mXtraining\u001b[0m \u001b[1;33m=\u001b[0m \u001b[0mmnp\u001b[0m\u001b[1;33m.\u001b[0m\u001b[0munpackb\u001b[0m\u001b[1;33m(\u001b[0m\u001b[0mr\u001b[0m\u001b[1;33m.\u001b[0m\u001b[0mget\u001b[0m\u001b[1;33m(\u001b[0m\u001b[1;34m'Xtraining'\u001b[0m\u001b[1;33m)\u001b[0m\u001b[1;33m,\u001b[0m \u001b[0mraw\u001b[0m\u001b[1;33m=\u001b[0m\u001b[1;32mTrue\u001b[0m\u001b[1;33m)\u001b[0m\u001b[1;33m\u001b[0m\u001b[1;33m\u001b[0m\u001b[0m\n",
                        "\u001b[1;32m~\\Anaconda3\\envs\\geo_env\\lib\\site-packages\\redis\\client.py\u001b[0m in \u001b[0;36mget\u001b[1;34m(self, name)\u001b[0m\n\u001b[0;32m   1577\u001b[0m         \u001b[0mReturn\u001b[0m \u001b[0mthe\u001b[0m \u001b[0mvalue\u001b[0m \u001b[0mat\u001b[0m \u001b[0mkey\u001b[0m\u001b[0;31m \u001b[0m\u001b[0;31m`\u001b[0m\u001b[0;31m`\u001b[0m\u001b[0mname\u001b[0m\u001b[0;31m`\u001b[0m\u001b[0;31m`\u001b[0m\u001b[1;33m,\u001b[0m \u001b[1;32mor\u001b[0m \u001b[1;32mNone\u001b[0m \u001b[1;32mif\u001b[0m \u001b[0mthe\u001b[0m \u001b[0mkey\u001b[0m \u001b[0mdoesn\u001b[0m\u001b[0;31m'\u001b[0m\u001b[0mt\u001b[0m \u001b[0mexist\u001b[0m\u001b[1;33m\u001b[0m\u001b[1;33m\u001b[0m\u001b[0m\n\u001b[0;32m   1578\u001b[0m         \"\"\"\n\u001b[1;32m-> 1579\u001b[1;33m         \u001b[1;32mreturn\u001b[0m \u001b[0mself\u001b[0m\u001b[1;33m.\u001b[0m\u001b[0mexecute_command\u001b[0m\u001b[1;33m(\u001b[0m\u001b[1;34m'GET'\u001b[0m\u001b[1;33m,\u001b[0m \u001b[0mname\u001b[0m\u001b[1;33m)\u001b[0m\u001b[1;33m\u001b[0m\u001b[1;33m\u001b[0m\u001b[0m\n\u001b[0m\u001b[0;32m   1580\u001b[0m \u001b[1;33m\u001b[0m\u001b[0m\n\u001b[0;32m   1581\u001b[0m     \u001b[1;32mdef\u001b[0m \u001b[0m__getitem__\u001b[0m\u001b[1;33m(\u001b[0m\u001b[0mself\u001b[0m\u001b[1;33m,\u001b[0m \u001b[0mname\u001b[0m\u001b[1;33m)\u001b[0m\u001b[1;33m:\u001b[0m\u001b[1;33m\u001b[0m\u001b[1;33m\u001b[0m\u001b[0m\n",
                        "\u001b[1;32m~\\Anaconda3\\envs\\geo_env\\lib\\site-packages\\redis\\client.py\u001b[0m in \u001b[0;36mexecute_command\u001b[1;34m(self, *args, **options)\u001b[0m\n\u001b[0;32m    873\u001b[0m         \u001b[0mpool\u001b[0m \u001b[1;33m=\u001b[0m \u001b[0mself\u001b[0m\u001b[1;33m.\u001b[0m\u001b[0mconnection_pool\u001b[0m\u001b[1;33m\u001b[0m\u001b[1;33m\u001b[0m\u001b[0m\n\u001b[0;32m    874\u001b[0m         \u001b[0mcommand_name\u001b[0m \u001b[1;33m=\u001b[0m \u001b[0margs\u001b[0m\u001b[1;33m[\u001b[0m\u001b[1;36m0\u001b[0m\u001b[1;33m]\u001b[0m\u001b[1;33m\u001b[0m\u001b[1;33m\u001b[0m\u001b[0m\n\u001b[1;32m--> 875\u001b[1;33m         \u001b[0mconn\u001b[0m \u001b[1;33m=\u001b[0m \u001b[0mself\u001b[0m\u001b[1;33m.\u001b[0m\u001b[0mconnection\u001b[0m \u001b[1;32mor\u001b[0m \u001b[0mpool\u001b[0m\u001b[1;33m.\u001b[0m\u001b[0mget_connection\u001b[0m\u001b[1;33m(\u001b[0m\u001b[0mcommand_name\u001b[0m\u001b[1;33m,\u001b[0m \u001b[1;33m**\u001b[0m\u001b[0moptions\u001b[0m\u001b[1;33m)\u001b[0m\u001b[1;33m\u001b[0m\u001b[1;33m\u001b[0m\u001b[0m\n\u001b[0m\u001b[0;32m    876\u001b[0m         \u001b[1;32mtry\u001b[0m\u001b[1;33m:\u001b[0m\u001b[1;33m\u001b[0m\u001b[1;33m\u001b[0m\u001b[0m\n\u001b[0;32m    877\u001b[0m             \u001b[0mconn\u001b[0m\u001b[1;33m.\u001b[0m\u001b[0msend_command\u001b[0m\u001b[1;33m(\u001b[0m\u001b[1;33m*\u001b[0m\u001b[0margs\u001b[0m\u001b[1;33m)\u001b[0m\u001b[1;33m\u001b[0m\u001b[1;33m\u001b[0m\u001b[0m\n",
                        "\u001b[1;32m~\\Anaconda3\\envs\\geo_env\\lib\\site-packages\\redis\\connection.py\u001b[0m in \u001b[0;36mget_connection\u001b[1;34m(self, command_name, *keys, **options)\u001b[0m\n\u001b[0;32m   1183\u001b[0m             \u001b[1;32mtry\u001b[0m\u001b[1;33m:\u001b[0m\u001b[1;33m\u001b[0m\u001b[1;33m\u001b[0m\u001b[0m\n\u001b[0;32m   1184\u001b[0m                 \u001b[1;31m# ensure this connection is connected to Redis\u001b[0m\u001b[1;33m\u001b[0m\u001b[1;33m\u001b[0m\u001b[1;33m\u001b[0m\u001b[0m\n\u001b[1;32m-> 1185\u001b[1;33m                 \u001b[0mconnection\u001b[0m\u001b[1;33m.\u001b[0m\u001b[0mconnect\u001b[0m\u001b[1;33m(\u001b[0m\u001b[1;33m)\u001b[0m\u001b[1;33m\u001b[0m\u001b[1;33m\u001b[0m\u001b[0m\n\u001b[0m\u001b[0;32m   1186\u001b[0m                 \u001b[1;31m# connections that the pool provides should be ready to send\u001b[0m\u001b[1;33m\u001b[0m\u001b[1;33m\u001b[0m\u001b[1;33m\u001b[0m\u001b[0m\n\u001b[0;32m   1187\u001b[0m                 \u001b[1;31m# a command. if not, the connection was either returned to the\u001b[0m\u001b[1;33m\u001b[0m\u001b[1;33m\u001b[0m\u001b[1;33m\u001b[0m\u001b[0m\n",
                        "\u001b[1;32m~\\Anaconda3\\envs\\geo_env\\lib\\site-packages\\redis\\connection.py\u001b[0m in \u001b[0;36mconnect\u001b[1;34m(self)\u001b[0m\n\u001b[0;32m    555\u001b[0m         \u001b[1;32mexcept\u001b[0m \u001b[0msocket\u001b[0m\u001b[1;33m.\u001b[0m\u001b[0merror\u001b[0m\u001b[1;33m:\u001b[0m\u001b[1;33m\u001b[0m\u001b[1;33m\u001b[0m\u001b[0m\n\u001b[0;32m    556\u001b[0m             \u001b[0me\u001b[0m \u001b[1;33m=\u001b[0m \u001b[0msys\u001b[0m\u001b[1;33m.\u001b[0m\u001b[0mexc_info\u001b[0m\u001b[1;33m(\u001b[0m\u001b[1;33m)\u001b[0m\u001b[1;33m[\u001b[0m\u001b[1;36m1\u001b[0m\u001b[1;33m]\u001b[0m\u001b[1;33m\u001b[0m\u001b[1;33m\u001b[0m\u001b[0m\n\u001b[1;32m--> 557\u001b[1;33m             \u001b[1;32mraise\u001b[0m \u001b[0mConnectionError\u001b[0m\u001b[1;33m(\u001b[0m\u001b[0mself\u001b[0m\u001b[1;33m.\u001b[0m\u001b[0m_error_message\u001b[0m\u001b[1;33m(\u001b[0m\u001b[0me\u001b[0m\u001b[1;33m)\u001b[0m\u001b[1;33m)\u001b[0m\u001b[1;33m\u001b[0m\u001b[1;33m\u001b[0m\u001b[0m\n\u001b[0m\u001b[0;32m    558\u001b[0m \u001b[1;33m\u001b[0m\u001b[0m\n\u001b[0;32m    559\u001b[0m         \u001b[0mself\u001b[0m\u001b[1;33m.\u001b[0m\u001b[0m_sock\u001b[0m \u001b[1;33m=\u001b[0m \u001b[0msock\u001b[0m\u001b[1;33m\u001b[0m\u001b[1;33m\u001b[0m\u001b[0m\n",
                        "\u001b[1;31mConnectionError\u001b[0m: Error 10060 connecting to 34.69.39.105:6379. A connection attempt failed because the connected party did not properly respond after a period of time, or established connection failed because connected host has failed to respond."
                    ]
                }
            ],
            "source": [
                "# Get data from redis server\n",
                "predmeans = mnp.unpackb(r.get('predmeans'), raw=True)\n",
                "predvars = mnp.unpackb(r.get('predvars'), raw=True)\n",
                "Xtest = mnp.unpackb(r.get('Xtest'), raw=True)\n",
                "Xtraining = mnp.unpackb(r.get('Xtraining'), raw=True)"
            ]
        },
        {
            "cell_type": "code",
            "execution_count": null,
            "metadata": {
                "id": "bd9f03c8-d313-450b-9421-07ff2b6148ad",
                "focus": false
            },
            "outputs": [],
            "source": [
                "# Get latitude and longitude from Xtest and convert to mercator\n",
                "lon = []\n",
                "lat = []\n",
                "for i in range(len(Xtest[0][1])):\n",
                "    lon.extend(Xtest[0][i].tolist())\n",
                "    lat.extend(Xtest[1][i].tolist())\n",
                "x, y = merc(lon,lat)"
            ]
        },
        {
            "cell_type": "code",
            "execution_count": 75,
            "metadata": {
                "id": "b7a8cb44-d86c-4c60-a46b-b88d5f2efdf6",
                "focus": false
            },
            "outputs": [
                {
                    "data": {
                        "text/plain": [
                            "array([47.1625584])"
                        ]
                    },
                    "execution_count": 75,
                    "metadata": {},
                    "output_type": "execute_result"
                }
            ],
            "source": [
                "# Create array of sizes for markers from uncertainty predictions\n",
                "sizes = 15*np.log(1 + 300/np.sqrt(predvars))\n",
                "min(sizes)"
            ]
        },
        {
            "cell_type": "code",
            "execution_count": 9,
            "metadata": {
                "id": "02d01d32-c54c-4638-a454-d1c12d2ebf20",
                "focus": false
            },
            "outputs": [
                {
                    "ename": "NameError",
                    "evalue": "name 'x_filtered' is not defined",
                    "output_type": "error",
                    "traceback": [
                        "\u001b[1;31m---------------------------------------------------------------------------\u001b[0m",
                        "\u001b[1;31mNameError\u001b[0m                                 Traceback (most recent call last)",
                        "\u001b[1;32m<ipython-input-9-c857c744cef9>\u001b[0m in \u001b[0;36m<module>\u001b[1;34m\u001b[0m\n\u001b[1;32m----> 1\u001b[1;33m \u001b[0mlen\u001b[0m\u001b[1;33m(\u001b[0m\u001b[0mx_filtered\u001b[0m\u001b[1;33m)\u001b[0m\u001b[1;33m\u001b[0m\u001b[1;33m\u001b[0m\u001b[0m\n\u001b[0m",
                        "\u001b[1;31mNameError\u001b[0m: name 'x_filtered' is not defined"
                    ]
                }
            ],
            "source": [
                "len(x_filtered)"
            ]
        },
        {
            "cell_type": "code",
            "execution_count": 165,
            "metadata": {
                "scrolled": true,
                "id": "f1e10d56-e54a-4884-97d6-01ff8c928912",
                "focus": false
            },
            "outputs": [
                {
                    "ename": "FileNotFoundError",
                    "evalue": "[Errno 2] No such file or directory: 'output/kampala_circle.html'",
                    "output_type": "error",
                    "traceback": [
                        "\u001b[1;31m---------------------------------------------------------------------------\u001b[0m",
                        "\u001b[1;31mFileNotFoundError\u001b[0m                         Traceback (most recent call last)",
                        "\u001b[1;32m<ipython-input-165-4b9abcb8de33>\u001b[0m in \u001b[0;36m<module>\u001b[1;34m\u001b[0m\n\u001b[0;32m     24\u001b[0m \u001b[1;33m\u001b[0m\u001b[0m\n\u001b[0;32m     25\u001b[0m \u001b[1;31m# Save the plot by passing the plot -object and output path\u001b[0m\u001b[1;33m\u001b[0m\u001b[1;33m\u001b[0m\u001b[1;33m\u001b[0m\u001b[0m\n\u001b[1;32m---> 26\u001b[1;33m \u001b[0msave\u001b[0m\u001b[1;33m(\u001b[0m\u001b[0mobj\u001b[0m\u001b[1;33m=\u001b[0m\u001b[0mmercator\u001b[0m\u001b[1;33m,\u001b[0m \u001b[0mfilename\u001b[0m\u001b[1;33m=\u001b[0m\u001b[0moutfp\u001b[0m\u001b[1;33m)\u001b[0m\u001b[1;33m\u001b[0m\u001b[1;33m\u001b[0m\u001b[0m\n\u001b[0m",
                        "\u001b[1;32m~\\Anaconda3\\envs\\geo_env\\lib\\site-packages\\bokeh\\io\\saving.py\u001b[0m in \u001b[0;36msave\u001b[1;34m(obj, filename, resources, title, template, state, **kwargs)\u001b[0m\n\u001b[0;32m     83\u001b[0m \u001b[1;33m\u001b[0m\u001b[0m\n\u001b[0;32m     84\u001b[0m     \u001b[0mfilename\u001b[0m\u001b[1;33m,\u001b[0m \u001b[0mresources\u001b[0m\u001b[1;33m,\u001b[0m \u001b[0mtitle\u001b[0m \u001b[1;33m=\u001b[0m \u001b[0m_get_save_args\u001b[0m\u001b[1;33m(\u001b[0m\u001b[0mstate\u001b[0m\u001b[1;33m,\u001b[0m \u001b[0mfilename\u001b[0m\u001b[1;33m,\u001b[0m \u001b[0mresources\u001b[0m\u001b[1;33m,\u001b[0m \u001b[0mtitle\u001b[0m\u001b[1;33m)\u001b[0m\u001b[1;33m\u001b[0m\u001b[1;33m\u001b[0m\u001b[0m\n\u001b[1;32m---> 85\u001b[1;33m     \u001b[0m_save_helper\u001b[0m\u001b[1;33m(\u001b[0m\u001b[0mobj\u001b[0m\u001b[1;33m,\u001b[0m \u001b[0mfilename\u001b[0m\u001b[1;33m,\u001b[0m \u001b[0mresources\u001b[0m\u001b[1;33m,\u001b[0m \u001b[0mtitle\u001b[0m\u001b[1;33m,\u001b[0m \u001b[0mtemplate\u001b[0m\u001b[1;33m)\u001b[0m\u001b[1;33m\u001b[0m\u001b[1;33m\u001b[0m\u001b[0m\n\u001b[0m\u001b[0;32m     86\u001b[0m     \u001b[1;32mreturn\u001b[0m \u001b[0mabspath\u001b[0m\u001b[1;33m(\u001b[0m\u001b[0mfilename\u001b[0m\u001b[1;33m)\u001b[0m\u001b[1;33m\u001b[0m\u001b[1;33m\u001b[0m\u001b[0m\n\u001b[0;32m     87\u001b[0m \u001b[1;33m\u001b[0m\u001b[0m\n",
                        "\u001b[1;32m~\\Anaconda3\\envs\\geo_env\\lib\\site-packages\\bokeh\\io\\saving.py\u001b[0m in \u001b[0;36m_save_helper\u001b[1;34m(obj, filename, resources, title, template)\u001b[0m\n\u001b[0;32m    147\u001b[0m     \u001b[0mhtml\u001b[0m \u001b[1;33m=\u001b[0m \u001b[0mfile_html\u001b[0m\u001b[1;33m(\u001b[0m\u001b[0mobj\u001b[0m\u001b[1;33m,\u001b[0m \u001b[0mresources\u001b[0m\u001b[1;33m,\u001b[0m \u001b[0mtitle\u001b[0m\u001b[1;33m=\u001b[0m\u001b[0mtitle\u001b[0m\u001b[1;33m,\u001b[0m \u001b[0mtemplate\u001b[0m\u001b[1;33m=\u001b[0m\u001b[0mtemplate\u001b[0m\u001b[1;33m)\u001b[0m\u001b[1;33m\u001b[0m\u001b[1;33m\u001b[0m\u001b[0m\n\u001b[0;32m    148\u001b[0m \u001b[1;33m\u001b[0m\u001b[0m\n\u001b[1;32m--> 149\u001b[1;33m     \u001b[1;32mwith\u001b[0m \u001b[0mio\u001b[0m\u001b[1;33m.\u001b[0m\u001b[0mopen\u001b[0m\u001b[1;33m(\u001b[0m\u001b[0mfilename\u001b[0m\u001b[1;33m,\u001b[0m \u001b[0mmode\u001b[0m\u001b[1;33m=\u001b[0m\u001b[1;34m\"w\"\u001b[0m\u001b[1;33m,\u001b[0m \u001b[0mencoding\u001b[0m\u001b[1;33m=\u001b[0m\u001b[1;34m\"utf-8\"\u001b[0m\u001b[1;33m)\u001b[0m \u001b[1;32mas\u001b[0m \u001b[0mf\u001b[0m\u001b[1;33m:\u001b[0m\u001b[1;33m\u001b[0m\u001b[1;33m\u001b[0m\u001b[0m\n\u001b[0m\u001b[0;32m    150\u001b[0m         \u001b[0mf\u001b[0m\u001b[1;33m.\u001b[0m\u001b[0mwrite\u001b[0m\u001b[1;33m(\u001b[0m\u001b[0mhtml\u001b[0m\u001b[1;33m)\u001b[0m\u001b[1;33m\u001b[0m\u001b[1;33m\u001b[0m\u001b[0m\n\u001b[0;32m    151\u001b[0m \u001b[1;33m\u001b[0m\u001b[0m\n",
                        "\u001b[1;31mFileNotFoundError\u001b[0m: [Errno 2] No such file or directory: 'output/kampala_circle.html'"
                    ]
                }
            ],
            "source": [
                "# Get map tiles\n",
                "tile_provider = get_provider(CARTODBPOSITRON)\n",
                "\n",
                "# Create ColumnDataSource from coordinates, sizes and predicted means\n",
                "source = ColumnDataSource(dict(x=x, y=y, sizes=sizes, means=predmeans))\n",
                "\n",
                "# Create linear colour map for pollution data\n",
                "mapper = linear_cmap(field_name='means', palette=YlOrBr[9][::-1] ,low=0 ,high=max(predmeans)[0])\n",
                "\n",
                "# Plot figure and add tiles \n",
                "mercator = figure(title=None, x_range=(min(x), max(x)), y_range=(min(y), max(y)),\n",
                "           x_axis_type=\"mercator\", y_axis_type=\"mercator\")\n",
                "mercator.add_tile(tile_provider)\n",
                "\n",
                "# Create and plot glyphs for predictions\n",
                "glyph = Circle(x=\"x\", y=\"y\", radius=\"sizes\", line_color=mapper, fill_color=mapper, fill_alpha=.8, line_width=0)\n",
                "mercator.add_glyph(source, glyph)\n",
                "\n",
                "# Add colour bar \n",
                "color_bar = ColorBar(color_mapper=mapper['transform'], width=8,  location=(0,0))\n",
                "mercator.add_layout(color_bar, 'right')\n",
                "\n",
                "outfp = r\"output/kampala_circle.html\"\n",
                "\n",
                "# Save the plot by passing the plot -object and output path\n",
                "save(obj=mercator, filename=outfp)"
            ]
        },
        {
            "cell_type": "code",
            "execution_count": 76,
            "metadata": {
                "id": "d4c5f5fe-e564-460a-b830-a1ed79a124b6",
                "focus": false
            },
            "outputs": [],
            "source": [
                "filter = []\n",
                "for var in predvars:\n",
                "    if np.sqrt(var) > np.sqrt(predvars.mean()):\n",
                "        filter.append(False)\n",
                "    else:\n",
                "        filter.append(True)"
            ]
        },
        {
            "cell_type": "code",
            "execution_count": 77,
            "metadata": {
                "id": "c273a8f2-3eb2-4c44-b59d-d0d5a8937dea",
                "focus": false
            },
            "outputs": [],
            "source": [
                "x_filtered = np.asarray(x)[filter]\n",
                "y_filtered = np.asarray(y)[filter]\n",
                "mean_filtered = predmeans[filter]\n",
                "vars_filtered = predvars[filter]\n",
                "sizes_filtered = 15*np.log(1 + 300/np.sqrt(vars_filtered))\n",
                "#alphas = (0.2 + 0.8*min(vars_filtered)/vars_filtered)\n",
                "alphas = (1/np.log(1 + np.sqrt(vars_filtered)))/max((1/np.log(1 + np.sqrt(vars_filtered))))\n",
                "lon_filtered = np.asarray(lon)[filter]\n",
                "lat_filtered = np.asarray(lat)[filter]"
            ]
        },
        {
            "cell_type": "code",
            "execution_count": 78,
            "metadata": {
                "id": "25116334-d605-46e7-9254-71ac09fa7741",
                "focus": false
            },
            "outputs": [
                {
                    "data": {
                        "text/plain": [
                            "'C:\\\\Projects\\\\AirQo\\\\src\\\\Maps\\\\data\\\\kampala_circle_filtered.html'"
                        ]
                    },
                    "execution_count": 78,
                    "metadata": {},
                    "output_type": "execute_result"
                }
            ],
            "source": [
                "# Get map tiles\n",
                "tile_provider = get_provider(CARTODBPOSITRON)\n",
                "\n",
                "# Create ColumnDataSource from coordinates, sizes and predicted means\n",
                "source1 = ColumnDataSource(dict(x=x_filtered, y=y_filtered, sizes=sizes_filtered, means=mean_filtered, \n",
                "                                vars=np.sqrt(vars_filtered), alphas=alphas, lat=lat_filtered, lon=lon_filtered))\n",
                "\n",
                "# Create linear colour map for pollution data\n",
                "mapper1 = linear_cmap(field_name='means', palette=YlOrBr[9][::-1] ,low=0 ,high=max(mean_filtered)[0])\n",
                "\n",
                "# Tooltips\n",
                "tooltips = [(\"Lat/long\", \"@lat, @lon\"),\n",
                "                (\"Predicted PM2.5\", \"@means\"),\n",
                "                (\"Predicted Variance\", \"@vars\")]\n",
                "\n",
                "# Plot figure and add tiles \n",
                "mercator_filtered = figure(title=None, x_range=(min(x), max(x)), y_range=(min(y), max(y)),\n",
                "           x_axis_type=\"mercator\", y_axis_type=\"mercator\", tooltips=tooltips, tools = \"pan,wheel_zoom,box_zoom,reset,hover\")\n",
                "mercator_filtered.add_tile(tile_provider)\n",
                "\n",
                "# Create and plot glyphs for predictions\n",
                "glyph1 = Circle(x=\"x\", y=\"y\", radius=60, line_color=\"white\", fill_color=mapper1, fill_alpha=\"alphas\", line_width=1, \n",
                "                line_alpha=1)\n",
                "mercator_filtered.add_glyph(source1, glyph1)\n",
                "\n",
                "# Add colour bar \n",
                "color_bar = ColorBar(color_mapper=mapper1['transform'], width=8,  location=(0,0))\n",
                "mercator_filtered.add_layout(color_bar, 'right')\n",
                "\n",
                "outfp = r\"data/kampala_circle_filtered.html\"\n",
                "\n",
                "# Save the plot by passing the plot -object and output path\n",
                "save(obj=mercator_filtered, filename=outfp)"
            ]
        },
        {
            "cell_type": "code",
            "execution_count": 137,
            "metadata": {
                "id": "282a25ef-9089-4924-8ada-7a9ccb5f584f",
                "focus": false
            },
            "outputs": [],
            "source": [
                "import json\n",
                "from bokeh.embed import json_item\n",
                "item_text = json.dumps(json_item(mercator_filtered, \"myplot\"))"
            ]
        },
        {
            "cell_type": "code",
            "execution_count": 199,
            "metadata": {
                "id": "1f391efb-6688-43d3-a45d-4132c025e554",
                "focus": false
            },
            "outputs": [
                {
                    "data": {
                        "text/plain": [
                            "array([1.])"
                        ]
                    },
                    "execution_count": 199,
                    "metadata": {},
                    "output_type": "execute_result"
                }
            ],
            "source": [
                "max((1/np.log(1 + np.sqrt(predvars)))/max((1/np.log(1 + np.sqrt(predvars)))))"
            ]
        },
        {
            "cell_type": "code",
            "execution_count": 215,
            "metadata": {
                "id": "edf6b58f-9210-4a74-8491-84eff6e3ee59",
                "focus": false
            },
            "outputs": [],
            "source": [
                "from bokeh.events import Event, LODEnd\n",
                "mercator_filtered.on_event(LODEnd)"
            ]
        },
        {
            "cell_type": "code",
            "execution_count": 84,
            "metadata": {
                "id": "ec7356bf-c480-4b56-9422-0aa53867d936",
                "focus": false
            },
            "outputs": [],
            "source": [
                "from scipy import interpolate\n",
                "f = interpolate.RectBivariateSpline(gridx, gridy, predmeans.reshape(150,150))"
            ]
        },
        {
            "cell_type": "code",
            "execution_count": 85,
            "metadata": {
                "id": "bcaf79c2-a215-4215-a1ee-51741d8b017a",
                "focus": false
            },
            "outputs": [],
            "source": [
                "gridx, gridy = merc(Xtest[0][0].tolist(), Xtest[1].T[0])"
            ]
        },
        {
            "cell_type": "code",
            "execution_count": 123,
            "metadata": {
                "id": "e996a5b9-cf1e-4532-8bf8-6b62bf928486",
                "focus": false
            },
            "outputs": [],
            "source": [
                "xnew = np.linspace(mercator_filtered.x_range.start, mercator_filtered.x_range.end, 20)\n",
                "ynew = np.linspace(mercator_filtered.y_range.start, mercator_filtered.y_range.end, 20)"
            ]
        },
        {
            "cell_type": "code",
            "execution_count": 94,
            "metadata": {
                "id": "cd91f0b4-adf1-4d61-b431-d71a2168a184",
                "focus": false
            },
            "outputs": [
                {
                    "data": {
                        "text/plain": [
                            "(400,)"
                        ]
                    },
                    "execution_count": 94,
                    "metadata": {},
                    "output_type": "execute_result"
                }
            ],
            "source": [
                "f(xnew,ynew).reshape(400).shape"
            ]
        },
        {
            "cell_type": "code",
            "execution_count": 134,
            "metadata": {
                "id": "6dccb1e7-15dc-4e76-afe6-1f03b43e0ccc",
                "focus": false
            },
            "outputs": [
                {
                    "data": {
                        "text/plain": [
                            "[b'predmeans', b'Xtraining', b'Xtest', b'predvars']"
                        ]
                    },
                    "execution_count": 134,
                    "metadata": {},
                    "output_type": "execute_result"
                }
            ],
            "source": [
                "r.keys()"
            ]
        },
        {
            "cell_type": "code",
            "execution_count": 136,
            "metadata": {
                "id": "45e3f0cd-430b-44c1-ad87-8fc7817a24aa",
                "focus": false
            },
            "outputs": [],
            "source": [
                "a, b = np.meshgrid(xnew,ynew)"
            ]
        },
        {
            "cell_type": "code",
            "execution_count": 13,
            "metadata": {
                "id": "e3f45276-017d-4024-b9ff-802e21812241",
                "focus": false
            },
            "outputs": [],
            "source": [
                "import requests"
            ]
        },
        {
            "cell_type": "code",
            "execution_count": 79,
            "metadata": {
                "id": "95da9ea2-3089-4af4-a3e8-f37aee3dc7e7",
                "focus": false
            },
            "outputs": [],
            "source": [
                "xstart = mercator_filtered.x_range.start\n",
                "xend = mercator_filtered.x_range.end\n",
                "ystart = mercator_filtered.y_range.start\n",
                "yend = mercator_filtered.y_range.end\n",
                "gridsize = 20\n",
                "url = \"http://127.0.0.1:5000/?xstart={}&xend={}&ystart={}&yend={}&gridsize={}\".format(xstart,\n",
                "                                                                                      xend,\n",
                "                                                                                      ystart,\n",
                "                                                                                      yend,\n",
                "                                                                                      gridsize)\n",
                "r = requests.get(url)"
            ]
        },
        {
            "cell_type": "code",
            "execution_count": 80,
            "metadata": {
                "id": "2c2b26c2-bc32-4e67-823f-289ca10fd5e4",
                "focus": false
            },
            "outputs": [
                {
                    "name": "stderr",
                    "output_type": "stream",
                    "text": [
                        "'bokeh.__javascript__' is not recognized as an internal or external command,\n",
                        "operable program or batch file.\n"
                    ]
                }
            ],
            "source": []
        },
        {
            "cell_type": "code",
            "execution_count": 62,
            "metadata": {
                "id": "155e80cf-8e93-4863-8c13-0aa01edb2845",
                "focus": false
            },
            "outputs": [
                {
                    "ename": "RuntimeError",
                    "evalue": "Models must be owned by only a single document, Selection(id='2502', ...) is already in a doc",
                    "output_type": "error",
                    "traceback": [
                        "\u001b[1;31m---------------------------------------------------------------------------\u001b[0m",
                        "\u001b[1;31mRuntimeError\u001b[0m                              Traceback (most recent call last)",
                        "\u001b[1;32m<ipython-input-62-06cc482eb8a1>\u001b[0m in \u001b[0;36m<module>\u001b[1;34m\u001b[0m\n\u001b[0;32m     36\u001b[0m \u001b[1;31m# Save the plot by passing the plot -object and output path\u001b[0m\u001b[1;33m\u001b[0m\u001b[1;33m\u001b[0m\u001b[1;33m\u001b[0m\u001b[0m\n\u001b[0;32m     37\u001b[0m \u001b[0moutput_file\u001b[0m\u001b[1;33m(\u001b[0m\u001b[0moutputfp\u001b[0m\u001b[1;33m)\u001b[0m\u001b[1;33m\u001b[0m\u001b[1;33m\u001b[0m\u001b[0m\n\u001b[1;32m---> 38\u001b[1;33m \u001b[0msave\u001b[0m\u001b[1;33m(\u001b[0m\u001b[0mmercator_filtered1\u001b[0m\u001b[1;33m)\u001b[0m\u001b[1;33m\u001b[0m\u001b[1;33m\u001b[0m\u001b[0m\n\u001b[0m",
                        "\u001b[1;32m~\\Anaconda3\\envs\\geo_env\\lib\\site-packages\\bokeh\\io\\saving.py\u001b[0m in \u001b[0;36msave\u001b[1;34m(obj, filename, resources, title, template, state, **kwargs)\u001b[0m\n\u001b[0;32m     83\u001b[0m \u001b[1;33m\u001b[0m\u001b[0m\n\u001b[0;32m     84\u001b[0m     \u001b[0mfilename\u001b[0m\u001b[1;33m,\u001b[0m \u001b[0mresources\u001b[0m\u001b[1;33m,\u001b[0m \u001b[0mtitle\u001b[0m \u001b[1;33m=\u001b[0m \u001b[0m_get_save_args\u001b[0m\u001b[1;33m(\u001b[0m\u001b[0mstate\u001b[0m\u001b[1;33m,\u001b[0m \u001b[0mfilename\u001b[0m\u001b[1;33m,\u001b[0m \u001b[0mresources\u001b[0m\u001b[1;33m,\u001b[0m \u001b[0mtitle\u001b[0m\u001b[1;33m)\u001b[0m\u001b[1;33m\u001b[0m\u001b[1;33m\u001b[0m\u001b[0m\n\u001b[1;32m---> 85\u001b[1;33m     \u001b[0m_save_helper\u001b[0m\u001b[1;33m(\u001b[0m\u001b[0mobj\u001b[0m\u001b[1;33m,\u001b[0m \u001b[0mfilename\u001b[0m\u001b[1;33m,\u001b[0m \u001b[0mresources\u001b[0m\u001b[1;33m,\u001b[0m \u001b[0mtitle\u001b[0m\u001b[1;33m,\u001b[0m \u001b[0mtemplate\u001b[0m\u001b[1;33m)\u001b[0m\u001b[1;33m\u001b[0m\u001b[1;33m\u001b[0m\u001b[0m\n\u001b[0m\u001b[0;32m     86\u001b[0m     \u001b[1;32mreturn\u001b[0m \u001b[0mabspath\u001b[0m\u001b[1;33m(\u001b[0m\u001b[0mfilename\u001b[0m\u001b[1;33m)\u001b[0m\u001b[1;33m\u001b[0m\u001b[1;33m\u001b[0m\u001b[0m\n\u001b[0;32m     87\u001b[0m \u001b[1;33m\u001b[0m\u001b[0m\n",
                        "\u001b[1;32m~\\Anaconda3\\envs\\geo_env\\lib\\site-packages\\bokeh\\io\\saving.py\u001b[0m in \u001b[0;36m_save_helper\u001b[1;34m(obj, filename, resources, title, template)\u001b[0m\n\u001b[0;32m    145\u001b[0m     '''\n\u001b[0;32m    146\u001b[0m     \u001b[1;32mfrom\u001b[0m \u001b[1;33m.\u001b[0m\u001b[1;33m.\u001b[0m\u001b[0membed\u001b[0m \u001b[1;32mimport\u001b[0m \u001b[0mfile_html\u001b[0m\u001b[1;33m\u001b[0m\u001b[1;33m\u001b[0m\u001b[0m\n\u001b[1;32m--> 147\u001b[1;33m     \u001b[0mhtml\u001b[0m \u001b[1;33m=\u001b[0m \u001b[0mfile_html\u001b[0m\u001b[1;33m(\u001b[0m\u001b[0mobj\u001b[0m\u001b[1;33m,\u001b[0m \u001b[0mresources\u001b[0m\u001b[1;33m,\u001b[0m \u001b[0mtitle\u001b[0m\u001b[1;33m=\u001b[0m\u001b[0mtitle\u001b[0m\u001b[1;33m,\u001b[0m \u001b[0mtemplate\u001b[0m\u001b[1;33m=\u001b[0m\u001b[0mtemplate\u001b[0m\u001b[1;33m)\u001b[0m\u001b[1;33m\u001b[0m\u001b[1;33m\u001b[0m\u001b[0m\n\u001b[0m\u001b[0;32m    148\u001b[0m \u001b[1;33m\u001b[0m\u001b[0m\n\u001b[0;32m    149\u001b[0m     \u001b[1;32mwith\u001b[0m \u001b[0mio\u001b[0m\u001b[1;33m.\u001b[0m\u001b[0mopen\u001b[0m\u001b[1;33m(\u001b[0m\u001b[0mfilename\u001b[0m\u001b[1;33m,\u001b[0m \u001b[0mmode\u001b[0m\u001b[1;33m=\u001b[0m\u001b[1;34m\"w\"\u001b[0m\u001b[1;33m,\u001b[0m \u001b[0mencoding\u001b[0m\u001b[1;33m=\u001b[0m\u001b[1;34m\"utf-8\"\u001b[0m\u001b[1;33m)\u001b[0m \u001b[1;32mas\u001b[0m \u001b[0mf\u001b[0m\u001b[1;33m:\u001b[0m\u001b[1;33m\u001b[0m\u001b[1;33m\u001b[0m\u001b[0m\n",
                        "\u001b[1;32m~\\Anaconda3\\envs\\geo_env\\lib\\site-packages\\bokeh\\embed\\standalone.py\u001b[0m in \u001b[0;36mfile_html\u001b[1;34m(models, resources, title, template, template_variables, theme, suppress_callback_warning, _always_new)\u001b[0m\n\u001b[0;32m    301\u001b[0m         \u001b[0mmodels_seq\u001b[0m \u001b[1;33m=\u001b[0m \u001b[0mmodels\u001b[0m\u001b[1;33m\u001b[0m\u001b[1;33m\u001b[0m\u001b[0m\n\u001b[0;32m    302\u001b[0m \u001b[1;33m\u001b[0m\u001b[0m\n\u001b[1;32m--> 303\u001b[1;33m     \u001b[1;32mwith\u001b[0m \u001b[0mOutputDocumentFor\u001b[0m\u001b[1;33m(\u001b[0m\u001b[0mmodels_seq\u001b[0m\u001b[1;33m,\u001b[0m \u001b[0mapply_theme\u001b[0m\u001b[1;33m=\u001b[0m\u001b[0mtheme\u001b[0m\u001b[1;33m,\u001b[0m \u001b[0malways_new\u001b[0m\u001b[1;33m=\u001b[0m\u001b[0m_always_new\u001b[0m\u001b[1;33m)\u001b[0m \u001b[1;32mas\u001b[0m \u001b[0mdoc\u001b[0m\u001b[1;33m:\u001b[0m\u001b[1;33m\u001b[0m\u001b[1;33m\u001b[0m\u001b[0m\n\u001b[0m\u001b[0;32m    304\u001b[0m         \u001b[1;33m(\u001b[0m\u001b[0mdocs_json\u001b[0m\u001b[1;33m,\u001b[0m \u001b[0mrender_items\u001b[0m\u001b[1;33m)\u001b[0m \u001b[1;33m=\u001b[0m \u001b[0mstandalone_docs_json_and_render_items\u001b[0m\u001b[1;33m(\u001b[0m\u001b[0mmodels_seq\u001b[0m\u001b[1;33m,\u001b[0m \u001b[0msuppress_callback_warning\u001b[0m\u001b[1;33m=\u001b[0m\u001b[0msuppress_callback_warning\u001b[0m\u001b[1;33m)\u001b[0m\u001b[1;33m\u001b[0m\u001b[1;33m\u001b[0m\u001b[0m\n\u001b[0;32m    305\u001b[0m         \u001b[0mtitle\u001b[0m \u001b[1;33m=\u001b[0m \u001b[0m_title_from_models\u001b[0m\u001b[1;33m(\u001b[0m\u001b[0mmodels_seq\u001b[0m\u001b[1;33m,\u001b[0m \u001b[0mtitle\u001b[0m\u001b[1;33m)\u001b[0m\u001b[1;33m\u001b[0m\u001b[1;33m\u001b[0m\u001b[0m\n",
                        "\u001b[1;32m~\\Anaconda3\\envs\\geo_env\\lib\\contextlib.py\u001b[0m in \u001b[0;36m__enter__\u001b[1;34m(self)\u001b[0m\n\u001b[0;32m    111\u001b[0m         \u001b[1;32mdel\u001b[0m \u001b[0mself\u001b[0m\u001b[1;33m.\u001b[0m\u001b[0margs\u001b[0m\u001b[1;33m,\u001b[0m \u001b[0mself\u001b[0m\u001b[1;33m.\u001b[0m\u001b[0mkwds\u001b[0m\u001b[1;33m,\u001b[0m \u001b[0mself\u001b[0m\u001b[1;33m.\u001b[0m\u001b[0mfunc\u001b[0m\u001b[1;33m\u001b[0m\u001b[1;33m\u001b[0m\u001b[0m\n\u001b[0;32m    112\u001b[0m         \u001b[1;32mtry\u001b[0m\u001b[1;33m:\u001b[0m\u001b[1;33m\u001b[0m\u001b[1;33m\u001b[0m\u001b[0m\n\u001b[1;32m--> 113\u001b[1;33m             \u001b[1;32mreturn\u001b[0m \u001b[0mnext\u001b[0m\u001b[1;33m(\u001b[0m\u001b[0mself\u001b[0m\u001b[1;33m.\u001b[0m\u001b[0mgen\u001b[0m\u001b[1;33m)\u001b[0m\u001b[1;33m\u001b[0m\u001b[1;33m\u001b[0m\u001b[0m\n\u001b[0m\u001b[0;32m    114\u001b[0m         \u001b[1;32mexcept\u001b[0m \u001b[0mStopIteration\u001b[0m\u001b[1;33m:\u001b[0m\u001b[1;33m\u001b[0m\u001b[1;33m\u001b[0m\u001b[0m\n\u001b[0;32m    115\u001b[0m             \u001b[1;32mraise\u001b[0m \u001b[0mRuntimeError\u001b[0m\u001b[1;33m(\u001b[0m\u001b[1;34m\"generator didn't yield\"\u001b[0m\u001b[1;33m)\u001b[0m \u001b[1;32mfrom\u001b[0m \u001b[1;32mNone\u001b[0m\u001b[1;33m\u001b[0m\u001b[1;33m\u001b[0m\u001b[0m\n",
                        "\u001b[1;32m~\\Anaconda3\\envs\\geo_env\\lib\\site-packages\\bokeh\\embed\\util.py\u001b[0m in \u001b[0;36mOutputDocumentFor\u001b[1;34m(objs, apply_theme, always_new)\u001b[0m\n\u001b[0;32m    132\u001b[0m             \u001b[0mdoc\u001b[0m \u001b[1;33m=\u001b[0m \u001b[0mDocument\u001b[0m\u001b[1;33m(\u001b[0m\u001b[1;33m)\u001b[0m\u001b[1;33m\u001b[0m\u001b[1;33m\u001b[0m\u001b[0m\n\u001b[0;32m    133\u001b[0m             \u001b[1;32mfor\u001b[0m \u001b[0mmodel\u001b[0m \u001b[1;32min\u001b[0m \u001b[0mobjs\u001b[0m\u001b[1;33m:\u001b[0m\u001b[1;33m\u001b[0m\u001b[1;33m\u001b[0m\u001b[0m\n\u001b[1;32m--> 134\u001b[1;33m                 \u001b[0mdoc\u001b[0m\u001b[1;33m.\u001b[0m\u001b[0madd_root\u001b[0m\u001b[1;33m(\u001b[0m\u001b[0mmodel\u001b[0m\u001b[1;33m)\u001b[0m\u001b[1;33m\u001b[0m\u001b[1;33m\u001b[0m\u001b[0m\n\u001b[0m\u001b[0;32m    135\u001b[0m \u001b[1;33m\u001b[0m\u001b[0m\n\u001b[0;32m    136\u001b[0m         \u001b[1;31m# handle a single shared document\u001b[0m\u001b[1;33m\u001b[0m\u001b[1;33m\u001b[0m\u001b[1;33m\u001b[0m\u001b[0m\n",
                        "\u001b[1;32m~\\Anaconda3\\envs\\geo_env\\lib\\site-packages\\bokeh\\document\\document.py\u001b[0m in \u001b[0;36madd_root\u001b[1;34m(self, model, setter)\u001b[0m\n\u001b[0;32m    317\u001b[0m             \u001b[0mself\u001b[0m\u001b[1;33m.\u001b[0m\u001b[0m_roots\u001b[0m\u001b[1;33m.\u001b[0m\u001b[0mappend\u001b[0m\u001b[1;33m(\u001b[0m\u001b[0mmodel\u001b[0m\u001b[1;33m)\u001b[0m\u001b[1;33m\u001b[0m\u001b[1;33m\u001b[0m\u001b[0m\n\u001b[0;32m    318\u001b[0m         \u001b[1;32mfinally\u001b[0m\u001b[1;33m:\u001b[0m\u001b[1;33m\u001b[0m\u001b[1;33m\u001b[0m\u001b[0m\n\u001b[1;32m--> 319\u001b[1;33m             \u001b[0mself\u001b[0m\u001b[1;33m.\u001b[0m\u001b[0m_pop_all_models_freeze\u001b[0m\u001b[1;33m(\u001b[0m\u001b[1;33m)\u001b[0m\u001b[1;33m\u001b[0m\u001b[1;33m\u001b[0m\u001b[0m\n\u001b[0m\u001b[0;32m    320\u001b[0m         \u001b[0mself\u001b[0m\u001b[1;33m.\u001b[0m\u001b[0m_trigger_on_change\u001b[0m\u001b[1;33m(\u001b[0m\u001b[0mRootAddedEvent\u001b[0m\u001b[1;33m(\u001b[0m\u001b[0mself\u001b[0m\u001b[1;33m,\u001b[0m \u001b[0mmodel\u001b[0m\u001b[1;33m,\u001b[0m \u001b[0msetter\u001b[0m\u001b[1;33m)\u001b[0m\u001b[1;33m)\u001b[0m\u001b[1;33m\u001b[0m\u001b[1;33m\u001b[0m\u001b[0m\n\u001b[0;32m    321\u001b[0m \u001b[1;33m\u001b[0m\u001b[0m\n",
                        "\u001b[1;32m~\\Anaconda3\\envs\\geo_env\\lib\\site-packages\\bokeh\\document\\document.py\u001b[0m in \u001b[0;36m_pop_all_models_freeze\u001b[1;34m(self)\u001b[0m\n\u001b[0;32m   1054\u001b[0m         \u001b[0mself\u001b[0m\u001b[1;33m.\u001b[0m\u001b[0m_all_models_freeze_count\u001b[0m \u001b[1;33m-=\u001b[0m \u001b[1;36m1\u001b[0m\u001b[1;33m\u001b[0m\u001b[1;33m\u001b[0m\u001b[0m\n\u001b[0;32m   1055\u001b[0m         \u001b[1;32mif\u001b[0m \u001b[0mself\u001b[0m\u001b[1;33m.\u001b[0m\u001b[0m_all_models_freeze_count\u001b[0m \u001b[1;33m==\u001b[0m \u001b[1;36m0\u001b[0m\u001b[1;33m:\u001b[0m\u001b[1;33m\u001b[0m\u001b[1;33m\u001b[0m\u001b[0m\n\u001b[1;32m-> 1056\u001b[1;33m             \u001b[0mself\u001b[0m\u001b[1;33m.\u001b[0m\u001b[0m_recompute_all_models\u001b[0m\u001b[1;33m(\u001b[0m\u001b[1;33m)\u001b[0m\u001b[1;33m\u001b[0m\u001b[1;33m\u001b[0m\u001b[0m\n\u001b[0m\u001b[0;32m   1057\u001b[0m \u001b[1;33m\u001b[0m\u001b[0m\n\u001b[0;32m   1058\u001b[0m     \u001b[1;32mdef\u001b[0m \u001b[0m_recompute_all_models\u001b[0m\u001b[1;33m(\u001b[0m\u001b[0mself\u001b[0m\u001b[1;33m)\u001b[0m\u001b[1;33m:\u001b[0m\u001b[1;33m\u001b[0m\u001b[1;33m\u001b[0m\u001b[0m\n",
                        "\u001b[1;32m~\\Anaconda3\\envs\\geo_env\\lib\\site-packages\\bokeh\\document\\document.py\u001b[0m in \u001b[0;36m_recompute_all_models\u001b[1;34m(self)\u001b[0m\n\u001b[0;32m   1077\u001b[0m             \u001b[0md\u001b[0m\u001b[1;33m.\u001b[0m\u001b[0m_detach_document\u001b[0m\u001b[1;33m(\u001b[0m\u001b[1;33m)\u001b[0m\u001b[1;33m\u001b[0m\u001b[1;33m\u001b[0m\u001b[0m\n\u001b[0;32m   1078\u001b[0m         \u001b[1;32mfor\u001b[0m \u001b[0ma\u001b[0m \u001b[1;32min\u001b[0m \u001b[0mto_attach\u001b[0m\u001b[1;33m:\u001b[0m\u001b[1;33m\u001b[0m\u001b[1;33m\u001b[0m\u001b[0m\n\u001b[1;32m-> 1079\u001b[1;33m             \u001b[0ma\u001b[0m\u001b[1;33m.\u001b[0m\u001b[0m_attach_document\u001b[0m\u001b[1;33m(\u001b[0m\u001b[0mself\u001b[0m\u001b[1;33m)\u001b[0m\u001b[1;33m\u001b[0m\u001b[1;33m\u001b[0m\u001b[0m\n\u001b[0m\u001b[0;32m   1080\u001b[0m         \u001b[0mself\u001b[0m\u001b[1;33m.\u001b[0m\u001b[0m_all_models\u001b[0m \u001b[1;33m=\u001b[0m \u001b[0mrecomputed\u001b[0m\u001b[1;33m\u001b[0m\u001b[1;33m\u001b[0m\u001b[0m\n\u001b[0;32m   1081\u001b[0m         \u001b[0mself\u001b[0m\u001b[1;33m.\u001b[0m\u001b[0m_all_models_by_name\u001b[0m \u001b[1;33m=\u001b[0m \u001b[0mrecomputed_by_name\u001b[0m\u001b[1;33m\u001b[0m\u001b[1;33m\u001b[0m\u001b[0m\n",
                        "\u001b[1;32m~\\Anaconda3\\envs\\geo_env\\lib\\site-packages\\bokeh\\model.py\u001b[0m in \u001b[0;36m_attach_document\u001b[1;34m(self, doc)\u001b[0m\n\u001b[0;32m    669\u001b[0m         '''\n\u001b[0;32m    670\u001b[0m         \u001b[1;32mif\u001b[0m \u001b[0mself\u001b[0m\u001b[1;33m.\u001b[0m\u001b[0m_document\u001b[0m \u001b[1;32mis\u001b[0m \u001b[1;32mnot\u001b[0m \u001b[1;32mNone\u001b[0m \u001b[1;32mand\u001b[0m \u001b[0mself\u001b[0m\u001b[1;33m.\u001b[0m\u001b[0m_document\u001b[0m \u001b[1;32mis\u001b[0m \u001b[1;32mnot\u001b[0m \u001b[0mdoc\u001b[0m\u001b[1;33m:\u001b[0m\u001b[1;33m\u001b[0m\u001b[1;33m\u001b[0m\u001b[0m\n\u001b[1;32m--> 671\u001b[1;33m             \u001b[1;32mraise\u001b[0m \u001b[0mRuntimeError\u001b[0m\u001b[1;33m(\u001b[0m\u001b[1;34m\"Models must be owned by only a single document, %r is already in a doc\"\u001b[0m \u001b[1;33m%\u001b[0m \u001b[1;33m(\u001b[0m\u001b[0mself\u001b[0m\u001b[1;33m)\u001b[0m\u001b[1;33m)\u001b[0m\u001b[1;33m\u001b[0m\u001b[1;33m\u001b[0m\u001b[0m\n\u001b[0m\u001b[0;32m    672\u001b[0m         \u001b[0mdoc\u001b[0m\u001b[1;33m.\u001b[0m\u001b[0mtheme\u001b[0m\u001b[1;33m.\u001b[0m\u001b[0mapply_to_model\u001b[0m\u001b[1;33m(\u001b[0m\u001b[0mself\u001b[0m\u001b[1;33m)\u001b[0m\u001b[1;33m\u001b[0m\u001b[1;33m\u001b[0m\u001b[0m\n\u001b[0;32m    673\u001b[0m         \u001b[0mself\u001b[0m\u001b[1;33m.\u001b[0m\u001b[0m_document\u001b[0m \u001b[1;33m=\u001b[0m \u001b[0mdoc\u001b[0m\u001b[1;33m\u001b[0m\u001b[1;33m\u001b[0m\u001b[0m\n",
                        "\u001b[1;31mRuntimeError\u001b[0m: Models must be owned by only a single document, Selection(id='2502', ...) is already in a doc"
                    ]
                }
            ],
            "source": [
                "# Get map tiles\n",
                "tile_provider = get_provider(CARTODBPOSITRON)\n",
                "\n",
                "# Create ColumnDataSource from coordinates, sizes and predicted means\n",
                "source2 = ColumnDataSource(dict(x=x_filtered, y=y_filtered, sizes=sizes_filtered, means=mean_filtered, \n",
                "                                vars=np.sqrt(vars_filtered), alphas=alphas, lat=lat_filtered, lon=lon_filtered))\n",
                "\n",
                "# Create linear colour map for pollution data\n",
                "mapper1 = linear_cmap(field_name='means', palette=YlOrBr[9][::-1] ,low=0 ,high=max(mean_filtered)[0])\n",
                "\n",
                "# Tooltips\n",
                "tooltips = [(\"Lat/long\", \"@lat, @lon\"),\n",
                "                (\"Predicted PM2.5\", \"@means\"),\n",
                "                (\"Predicted Variance\", \"@vars\")]\n",
                "\n",
                "# Plot figure and add tiles \n",
                "mercator_filtered1 = figure(title=None, x_range=(min(x), max(x)), y_range=(min(y), max(y)),\n",
                "           x_axis_type=\"mercator\", y_axis_type=\"mercator\", tooltips=tooltips, tools = \"pan,wheel_zoom,box_zoom,reset,hover\")\n",
                "\n",
                "mercator_filtered1.add_tile(tile_provider)\n",
                "\n",
                "# Create and plot glyphs for predictions\n",
                "glyph2 = Circle(x=\"x\", y=\"y\", radius=60, line_color=\"white\", fill_color=mapper1, fill_alpha=\"alphas\", line_width=1, \n",
                "                line_alpha=1)\n",
                "mercator_filtered1.add_glyph(source2, glyph2)\n",
                "\n",
                "glyph2.js_on_event(\"LODEnd\", callback)\n",
                "\n",
                "# Add colour bar \n",
                "color_bar = ColorBar(color_mapper=mapper1['transform'], width=8,  location=(0,0))\n",
                "\n",
                "mercator_filtered1.add_layout(color_bar, 'right')\n",
                "\n",
                "outputfp = r\"data/scaling2.html\"\n",
                "\n",
                "# Save the plot by passing the plot -object and output path\n",
                "output_file(outputfp)\n",
                "save(mercator_filtered1)"
            ]
        },
        {
            "cell_type": "code",
            "execution_count": 61,
            "metadata": {
                "id": "87acb558-ca3e-4f38-b87d-c6d7e45dd23e",
                "focus": false
            },
            "outputs": [],
            "source": [
                "mercator_filtered.js_on_event('LODEnd')"
            ]
        },
        {
            "cell_type": "code",
            "execution_count": 42,
            "metadata": {
                "id": "ba5561e6-4c57-4d93-97ae-3edfd6460108",
                "focus": false
            },
            "outputs": [],
            "source": [
                "callback = CustomJS(args=dict(source=source1, map=mercator_filtered), code=\"\"\"\n",
                "    var xstart = map.x_range.start;\n",
                "    var xend = map.x_range.end;\n",
                "    var ystart = map.y_range.start;\n",
                "    var yend = map.y_range.end;\n",
                "    var gridsize = 20;\n",
                "    var url = \"http://127.0.0.1:5000/?\"+xstart+\"&\"+xend+\"&\"+ystart+\"&\"+yend+\"&\"+gridsize;\n",
                "    \n",
                "    $.getJSON('employee.json', function(request))\n",
                "    \n",
                "    var data = source.data\n",
                "    var x = data[\"x\"]\n",
                "    var y = data[\"y\"]\n",
                "    var means = data[\"means\"]\n",
                "    var vars = data[\"vars\"]\n",
                "    \n",
                "    x = request.xgrid\n",
                "    y = request.ygrid\n",
                "    means = request.means\n",
                "    vars = request.vars  \n",
                "        \n",
                "    source.change.emit();\n",
                "\"\"\")"
            ]
        },
        {
            "cell_type": "code",
            "execution_count": 26,
            "metadata": {
                "id": "4e147298-208d-4ba6-b313-932c95eebfb7",
                "focus": false
            },
            "outputs": [
                {
                    "ename": "AttributeError",
                    "evalue": "'ColumnDataSource' object has no attribute 'change'",
                    "output_type": "error",
                    "traceback": [
                        "\u001b[1;31m---------------------------------------------------------------------------\u001b[0m",
                        "\u001b[1;31mAttributeError\u001b[0m                            Traceback (most recent call last)",
                        "\u001b[1;32m<ipython-input-26-8c3bd5c93137>\u001b[0m in \u001b[0;36m<module>\u001b[1;34m\u001b[0m\n\u001b[1;32m----> 1\u001b[1;33m \u001b[0msource1\u001b[0m\u001b[1;33m.\u001b[0m\u001b[0mchange\u001b[0m\u001b[1;33m\u001b[0m\u001b[1;33m\u001b[0m\u001b[0m\n\u001b[0m",
                        "\u001b[1;31mAttributeError\u001b[0m: 'ColumnDataSource' object has no attribute 'change'"
                    ]
                }
            ],
            "source": [
                "http://127.0.0.1:5000/?xstart=1&xend=1&ystart=1&yend=1&gridsize=1\n"
            ]
        },
        {
            "cell_type": "code",
            "execution_count": null,
            "metadata": {
                "id": "23338084-f18f-40ab-b312-c644f5664157",
                "focus": false
            },
            "outputs": [],
            "source": [
                "var xstart = map.x_range.start\n",
                "var xend = map.x_range.end\n",
                "var ystart = map.y_range.start\n",
                "var yend = map.y_range.end\n",
                "var gridsize = 20\n",
                "url = \"http://127.0.0.1:5000/?\"+xstart+\"&\"+xend+\"&\"+ystart+\"&\"+yend+\"&\"+gridsize;"
            ]
        },
        {
            "cell_type": "code",
            "execution_count": 49,
            "metadata": {
                "id": "0b45dfd9-f6d2-4387-9582-e676fba763b6",
                "focus": false
            },
            "outputs": [],
            "source": [
                "x = [x*0.005 for x in range(0, 200)]\n",
                "y = x\n",
                "\n",
                "source = ColumnDataSource(data=dict(x=x, y=y))\n",
                "\n",
                "plot = Figure(plot_width=400, plot_height=400)\n",
                "plot.line('x', 'y', source=source, line_width=3, line_alpha=0.6)\n",
                "\n",
                "callback = CustomJS(args=dict(source=source), code=\"\"\"\n",
                "    var data = source.data;\n",
                "    var f = cb_obj.value\n",
                "    var x = data['x']\n",
                "    var y = data['y']\n",
                "    for (var i = 0; i < x.length; i++) {\n",
                "        y[i] = Math.pow(x[i], f)\n",
                "    }\n",
                "    source.change.emit();\n",
                "\"\"\")\n",
                "\n",
                "slider = Slider(start=0.1, end=4, value=1, step=.1, title=\"power\")\n",
                "slider.js_on_change('value', callback)\n",
                "\n",
                "layout = column(slider, plot)\n",
                "\n",
                "output_file(r\"data/test.html\")"
            ]
        },
        {
            "cell_type": "code",
            "execution_count": null,
            "metadata": {
                "id": "19f0fd8a-b1c7-44cb-ade2-bf7531fcb070",
                "focus": false
            },
            "outputs": [],
            "source": []
        }
    ],
    "metadata": {
        "kernelspec": {
            "display_name": "Python [conda env:geo_env]",
            "language": "python",
            "name": "conda-env-geo_env-py"
        },
        "language_info": {
            "codemirror_mode": {
                "name": "ipython",
                "version": 3
            },
            "file_extension": ".py",
            "mimetype": "text/x-python",
            "name": "python",
            "nbconvert_exporter": "python",
            "pygments_lexer": "ipython3",
            "version": "3.8.2"
        }
    },
    "nbformat": 4,
    "nbformat_minor": 4
}