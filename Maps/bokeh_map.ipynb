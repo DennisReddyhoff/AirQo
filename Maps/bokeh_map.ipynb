{
 "cells": [
  {
   "cell_type": "code",
   "execution_count": 3,
   "metadata": {},
   "outputs": [],
   "source": [
    "import redis\n",
    "import msgpack\n",
    "import msgpack_numpy as mnp\n",
    "pool = redis.ConnectionPool(host='34.69.39.105', port=6379, db=0)\n",
    "r = redis.Redis(connection_pool=pool)"
   ]
  },
  {
   "cell_type": "code",
   "execution_count": 4,
   "metadata": {},
   "outputs": [],
   "source": [
    "import numpy as np\n",
    "from bokeh.models import Circle, ColumnDataSource,Plot,ColorBar, HoverTool\n",
    "from bokeh.plotting import figure, save\n",
    "from bokeh.transform import linear_cmap\n",
    "from bokeh.palettes import YlOrBr\n",
    "from bokeh.tile_providers import CARTODBPOSITRON, get_provider\n",
    "import geopandas as gpd"
   ]
  },
  {
   "cell_type": "code",
   "execution_count": 5,
   "metadata": {},
   "outputs": [],
   "source": [
    "def merc(lon, lat):\n",
    "    ''' Get mercator projection co-ordinates from latitude and logitude'''\n",
    "    x=[]\n",
    "    y=[]\n",
    "    r_major = 6378137.000\n",
    "    for i in range(len(lon)):\n",
    "        x.append(r_major * np.radians(lon[i])) \n",
    "        scale = x[i]/lon[i]\n",
    "        y.append(180.0/np.pi * np.log(np.tan(np.pi/4.0 + \n",
    "         lat[i]* (np.pi/180.0)/2.0)) * scale)\n",
    "    return x, y"
   ]
  },
  {
   "cell_type": "code",
   "execution_count": 54,
   "metadata": {},
   "outputs": [],
   "source": [
    "# Get data from redis server\n",
    "predmeans = mnp.unpackb(r.get('predmeans'), raw=True)\n",
    "predvars = mnp.unpackb(r.get('predvars'), raw=True)\n",
    "Xtest = mnp.unpackb(r.get('Xtest'), raw=True)\n",
    "Xtraining = mnp.unpackb(r.get('Xtraining'), raw=True)"
   ]
  },
  {
   "cell_type": "code",
   "execution_count": 55,
   "metadata": {},
   "outputs": [],
   "source": [
    "# Get latitude and longitude from Xtest and convert to mercator\n",
    "lon = []\n",
    "lat = []\n",
    "for i in range(len(Xtest[0][1])):\n",
    "    lon.extend(Xtest[0][i].tolist())\n",
    "    lat.extend(Xtest[1][i].tolist())\n",
    "x, y = merc(lon,lat)"
   ]
  },
  {
   "cell_type": "code",
   "execution_count": 56,
   "metadata": {},
   "outputs": [
    {
     "data": {
      "text/plain": [
       "array([48.05711462])"
      ]
     },
     "execution_count": 56,
     "metadata": {},
     "output_type": "execute_result"
    }
   ],
   "source": [
    "# Create array of sizes for markers from uncertainty predictions\n",
    "sizes = 15*np.log(1 + 300/np.sqrt(predvars))\n",
    "min(sizes)"
   ]
  },
  {
   "cell_type": "code",
   "execution_count": 61,
   "metadata": {},
   "outputs": [
    {
     "data": {
      "text/plain": [
       "22500"
      ]
     },
     "execution_count": 61,
     "metadata": {},
     "output_type": "execute_result"
    }
   ],
   "source": [
    "len(x_filtered)"
   ]
  },
  {
   "cell_type": "code",
   "execution_count": 165,
   "metadata": {
    "scrolled": true
   },
   "outputs": [
    {
     "ename": "FileNotFoundError",
     "evalue": "[Errno 2] No such file or directory: 'output/kampala_circle.html'",
     "output_type": "error",
     "traceback": [
      "\u001b[1;31m---------------------------------------------------------------------------\u001b[0m",
      "\u001b[1;31mFileNotFoundError\u001b[0m                         Traceback (most recent call last)",
      "\u001b[1;32m<ipython-input-165-4b9abcb8de33>\u001b[0m in \u001b[0;36m<module>\u001b[1;34m\u001b[0m\n\u001b[0;32m     24\u001b[0m \u001b[1;33m\u001b[0m\u001b[0m\n\u001b[0;32m     25\u001b[0m \u001b[1;31m# Save the plot by passing the plot -object and output path\u001b[0m\u001b[1;33m\u001b[0m\u001b[1;33m\u001b[0m\u001b[1;33m\u001b[0m\u001b[0m\n\u001b[1;32m---> 26\u001b[1;33m \u001b[0msave\u001b[0m\u001b[1;33m(\u001b[0m\u001b[0mobj\u001b[0m\u001b[1;33m=\u001b[0m\u001b[0mmercator\u001b[0m\u001b[1;33m,\u001b[0m \u001b[0mfilename\u001b[0m\u001b[1;33m=\u001b[0m\u001b[0moutfp\u001b[0m\u001b[1;33m)\u001b[0m\u001b[1;33m\u001b[0m\u001b[1;33m\u001b[0m\u001b[0m\n\u001b[0m",
      "\u001b[1;32m~\\Anaconda3\\envs\\geo_env\\lib\\site-packages\\bokeh\\io\\saving.py\u001b[0m in \u001b[0;36msave\u001b[1;34m(obj, filename, resources, title, template, state, **kwargs)\u001b[0m\n\u001b[0;32m     83\u001b[0m \u001b[1;33m\u001b[0m\u001b[0m\n\u001b[0;32m     84\u001b[0m     \u001b[0mfilename\u001b[0m\u001b[1;33m,\u001b[0m \u001b[0mresources\u001b[0m\u001b[1;33m,\u001b[0m \u001b[0mtitle\u001b[0m \u001b[1;33m=\u001b[0m \u001b[0m_get_save_args\u001b[0m\u001b[1;33m(\u001b[0m\u001b[0mstate\u001b[0m\u001b[1;33m,\u001b[0m \u001b[0mfilename\u001b[0m\u001b[1;33m,\u001b[0m \u001b[0mresources\u001b[0m\u001b[1;33m,\u001b[0m \u001b[0mtitle\u001b[0m\u001b[1;33m)\u001b[0m\u001b[1;33m\u001b[0m\u001b[1;33m\u001b[0m\u001b[0m\n\u001b[1;32m---> 85\u001b[1;33m     \u001b[0m_save_helper\u001b[0m\u001b[1;33m(\u001b[0m\u001b[0mobj\u001b[0m\u001b[1;33m,\u001b[0m \u001b[0mfilename\u001b[0m\u001b[1;33m,\u001b[0m \u001b[0mresources\u001b[0m\u001b[1;33m,\u001b[0m \u001b[0mtitle\u001b[0m\u001b[1;33m,\u001b[0m \u001b[0mtemplate\u001b[0m\u001b[1;33m)\u001b[0m\u001b[1;33m\u001b[0m\u001b[1;33m\u001b[0m\u001b[0m\n\u001b[0m\u001b[0;32m     86\u001b[0m     \u001b[1;32mreturn\u001b[0m \u001b[0mabspath\u001b[0m\u001b[1;33m(\u001b[0m\u001b[0mfilename\u001b[0m\u001b[1;33m)\u001b[0m\u001b[1;33m\u001b[0m\u001b[1;33m\u001b[0m\u001b[0m\n\u001b[0;32m     87\u001b[0m \u001b[1;33m\u001b[0m\u001b[0m\n",
      "\u001b[1;32m~\\Anaconda3\\envs\\geo_env\\lib\\site-packages\\bokeh\\io\\saving.py\u001b[0m in \u001b[0;36m_save_helper\u001b[1;34m(obj, filename, resources, title, template)\u001b[0m\n\u001b[0;32m    147\u001b[0m     \u001b[0mhtml\u001b[0m \u001b[1;33m=\u001b[0m \u001b[0mfile_html\u001b[0m\u001b[1;33m(\u001b[0m\u001b[0mobj\u001b[0m\u001b[1;33m,\u001b[0m \u001b[0mresources\u001b[0m\u001b[1;33m,\u001b[0m \u001b[0mtitle\u001b[0m\u001b[1;33m=\u001b[0m\u001b[0mtitle\u001b[0m\u001b[1;33m,\u001b[0m \u001b[0mtemplate\u001b[0m\u001b[1;33m=\u001b[0m\u001b[0mtemplate\u001b[0m\u001b[1;33m)\u001b[0m\u001b[1;33m\u001b[0m\u001b[1;33m\u001b[0m\u001b[0m\n\u001b[0;32m    148\u001b[0m \u001b[1;33m\u001b[0m\u001b[0m\n\u001b[1;32m--> 149\u001b[1;33m     \u001b[1;32mwith\u001b[0m \u001b[0mio\u001b[0m\u001b[1;33m.\u001b[0m\u001b[0mopen\u001b[0m\u001b[1;33m(\u001b[0m\u001b[0mfilename\u001b[0m\u001b[1;33m,\u001b[0m \u001b[0mmode\u001b[0m\u001b[1;33m=\u001b[0m\u001b[1;34m\"w\"\u001b[0m\u001b[1;33m,\u001b[0m \u001b[0mencoding\u001b[0m\u001b[1;33m=\u001b[0m\u001b[1;34m\"utf-8\"\u001b[0m\u001b[1;33m)\u001b[0m \u001b[1;32mas\u001b[0m \u001b[0mf\u001b[0m\u001b[1;33m:\u001b[0m\u001b[1;33m\u001b[0m\u001b[1;33m\u001b[0m\u001b[0m\n\u001b[0m\u001b[0;32m    150\u001b[0m         \u001b[0mf\u001b[0m\u001b[1;33m.\u001b[0m\u001b[0mwrite\u001b[0m\u001b[1;33m(\u001b[0m\u001b[0mhtml\u001b[0m\u001b[1;33m)\u001b[0m\u001b[1;33m\u001b[0m\u001b[1;33m\u001b[0m\u001b[0m\n\u001b[0;32m    151\u001b[0m \u001b[1;33m\u001b[0m\u001b[0m\n",
      "\u001b[1;31mFileNotFoundError\u001b[0m: [Errno 2] No such file or directory: 'output/kampala_circle.html'"
     ]
    }
   ],
   "source": [
    "# Get map tiles\n",
    "tile_provider = get_provider(CARTODBPOSITRON)\n",
    "\n",
    "# Create ColumnDataSource from coordinates, sizes and predicted means\n",
    "source = ColumnDataSource(dict(x=x, y=y, sizes=sizes, means=predmeans))\n",
    "\n",
    "# Create linear colour map for pollution data\n",
    "mapper = linear_cmap(field_name='means', palette=YlOrBr[9][::-1] ,low=0 ,high=max(predmeans)[0])\n",
    "\n",
    "# Plot figure and add tiles \n",
    "mercator = figure(title=None, x_range=(min(x), max(x)), y_range=(min(y), max(y)),\n",
    "           x_axis_type=\"mercator\", y_axis_type=\"mercator\")\n",
    "mercator.add_tile(tile_provider)\n",
    "\n",
    "# Create and plot glyphs for predictions\n",
    "glyph = Circle(x=\"x\", y=\"y\", radius=\"sizes\", line_color=mapper, fill_color=mapper, fill_alpha=.8, line_width=0)\n",
    "mercator.add_glyph(source, glyph)\n",
    "\n",
    "# Add colour bar \n",
    "color_bar = ColorBar(color_mapper=mapper['transform'], width=8,  location=(0,0))\n",
    "mercator.add_layout(color_bar, 'right')\n",
    "\n",
    "outfp = r\"output/kampala_circle.html\"\n",
    "\n",
    "# Save the plot by passing the plot -object and output path\n",
    "save(obj=mercator, filename=outfp)"
   ]
  },
  {
   "cell_type": "code",
   "execution_count": 62,
   "metadata": {},
   "outputs": [],
   "source": [
    "filter = []\n",
    "for var in predvars:\n",
    "    if np.sqrt(var) > np.sqrt(predvars.mean()):\n",
    "        filter.append(False)\n",
    "    else:\n",
    "        filter.append(True)"
   ]
  },
  {
   "cell_type": "code",
   "execution_count": 63,
   "metadata": {},
   "outputs": [],
   "source": [
    "x_filtered = np.asarray(x)[filter]\n",
    "y_filtered = np.asarray(y)[filter]\n",
    "mean_filtered = predmeans[filter]\n",
    "vars_filtered = predvars[filter]\n",
    "sizes_filtered = 15*np.log(1 + 300/np.sqrt(vars_filtered))\n",
    "#alphas = (0.2 + 0.8*min(vars_filtered)/vars_filtered)\n",
    "alphas = (1/np.log(1 + np.sqrt(vars_filtered)))/max((1/np.log(1 + np.sqrt(vars_filtered))))\n",
    "lon_filtered = np.asarray(lon)[filter]\n",
    "lat_filtered = np.asarray(lat)[filter]"
   ]
  },
  {
   "cell_type": "code",
   "execution_count": 64,
   "metadata": {},
   "outputs": [
    {
     "data": {
      "text/plain": [
       "'C:\\\\Projects\\\\AirQo\\\\src\\\\Maps\\\\data\\\\kampala_circle_filtered.html'"
      ]
     },
     "execution_count": 64,
     "metadata": {},
     "output_type": "execute_result"
    }
   ],
   "source": [
    "# Get map tiles\n",
    "tile_provider = get_provider(CARTODBPOSITRON)\n",
    "\n",
    "# Create ColumnDataSource from coordinates, sizes and predicted means\n",
    "source1 = ColumnDataSource(dict(x=x_filtered, y=y_filtered, sizes=sizes_filtered, means=mean_filtered, \n",
    "                                vars=np.sqrt(vars_filtered), alphas=alphas, lat=lat_filtered, lon=lon_filtered))\n",
    "\n",
    "# Create linear colour map for pollution data\n",
    "mapper1 = linear_cmap(field_name='means', palette=YlOrBr[9][::-1] ,low=0 ,high=max(mean_filtered)[0])\n",
    "\n",
    "# Tooltips\n",
    "tooltips = [(\"Lat/long\", \"@lat, @lon\"),\n",
    "                (\"Predicted PM2.5\", \"@means\"),\n",
    "                (\"Predicted Variance\", \"@vars\")]\n",
    "\n",
    "# Plot figure and add tiles \n",
    "mercator_filtered = figure(title=None, x_range=(min(x), max(x)), y_range=(min(y), max(y)),\n",
    "           x_axis_type=\"mercator\", y_axis_type=\"mercator\", tooltips=tooltips, tools = \"pan,wheel_zoom,box_zoom,reset,hover\")\n",
    "mercator_filtered.add_tile(tile_provider)\n",
    "\n",
    "# Create and plot glyphs for predictions\n",
    "glyph1 = Circle(x=\"x\", y=\"y\", radius=60, line_color=\"white\", fill_color=mapper1, fill_alpha=\"alphas\", line_width=1, \n",
    "                line_alpha=1)\n",
    "mercator_filtered.add_glyph(source1, glyph1)\n",
    "\n",
    "# Add colour bar \n",
    "color_bar = ColorBar(color_mapper=mapper1['transform'], width=8,  location=(0,0))\n",
    "mercator_filtered.add_layout(color_bar, 'right')\n",
    "\n",
    "outfp = r\"data/kampala_circle_filtered.html\"\n",
    "\n",
    "# Save the plot by passing the plot -object and output path\n",
    "save(obj=mercator_filtered, filename=outfp)"
   ]
  },
  {
   "cell_type": "code",
   "execution_count": 137,
   "metadata": {},
   "outputs": [],
   "source": [
    "import json\n",
    "from bokeh.embed import json_item\n",
    "item_text = json.dumps(json_item(mercator_filtered, \"myplot\"))"
   ]
  },
  {
   "cell_type": "code",
   "execution_count": 199,
   "metadata": {},
   "outputs": [
    {
     "data": {
      "text/plain": [
       "array([1.])"
      ]
     },
     "execution_count": 199,
     "metadata": {},
     "output_type": "execute_result"
    }
   ],
   "source": [
    "max((1/np.log(1 + np.sqrt(predvars)))/max((1/np.log(1 + np.sqrt(predvars)))))"
   ]
  },
  {
   "cell_type": "code",
   "execution_count": 215,
   "metadata": {},
   "outputs": [],
   "source": [
    "from bokeh.events import Event, LODEnd\n",
    "mercator_filtered.on_event(LODEnd)"
   ]
  },
  {
   "cell_type": "code",
   "execution_count": 84,
   "metadata": {},
   "outputs": [],
   "source": [
    "from scipy import interpolate\n",
    "f = interpolate.RectBivariateSpline(gridx, gridy, predmeans.reshape(150,150))"
   ]
  },
  {
   "cell_type": "code",
   "execution_count": 85,
   "metadata": {},
   "outputs": [],
   "source": [
    "gridx, gridy = merc(Xtest[0][0].tolist(), Xtest[1].T[0])"
   ]
  },
  {
   "cell_type": "code",
   "execution_count": 86,
   "metadata": {},
   "outputs": [],
   "source": [
    "xnew = np.linspace(mercator_filtered.x_range.start, mercator_filtered.x_range.end, 20)\n",
    "ynew = np.linspace(mercator_filtered.y_range.start, mercator_filtered.y_range.end, 20)"
   ]
  },
  {
   "cell_type": "code",
   "execution_count": 82,
   "metadata": {},
   "outputs": [
    {
     "data": {
      "text/plain": [
       "(400,)"
      ]
     },
     "execution_count": 82,
     "metadata": {},
     "output_type": "execute_result"
    }
   ],
   "source": [
    "f(xnew,ynew).reshape(400).shape"
   ]
  },
  {
   "cell_type": "code",
   "execution_count": 83,
   "metadata": {},
   "outputs": [
    {
     "data": {
      "text/plain": [
       "(20,)"
      ]
     },
     "execution_count": 83,
     "metadata": {},
     "output_type": "execute_result"
    }
   ],
   "source": [
    "xnew.shape"
   ]
  },
  {
   "cell_type": "code",
   "execution_count": null,
   "metadata": {},
   "outputs": [],
   "source": []
  }
 ],
 "metadata": {
  "kernelspec": {
   "display_name": "Python [conda env:geo_env]",
   "language": "python",
   "name": "conda-env-geo_env-py"
  }
 },
 "nbformat": 4,
 "nbformat_minor": 4
}
