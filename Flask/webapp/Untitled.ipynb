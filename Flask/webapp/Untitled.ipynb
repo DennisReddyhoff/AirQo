{
 "cells": [
  {
   "cell_type": "code",
   "execution_count": null,
   "metadata": {},
   "outputs": [],
   "source": [
    "from gpmodel import gpmodel"
   ]
  },
  {
   "cell_type": "code",
   "execution_count": null,
   "metadata": {},
   "outputs": [],
   "source": [
    "a = gpmodel()"
   ]
  },
  {
   "cell_type": "code",
   "execution_count": null,
   "metadata": {},
   "outputs": [],
   "source": [
    "x, y, z = a"
   ]
  },
  {
   "cell_type": "code",
   "execution_count": 4,
   "metadata": {},
   "outputs": [
    {
     "name": "stdout",
     "output_type": "stream",
     "text": [
      "starting\n"
     ]
    }
   ],
   "source": [
    "from gpmodel import gpmodel\n",
    "from interpolate import interp, lonlat, getgrid\n",
    "from flask import Flask, jsonify, request, render_template\n",
    "from getmap import getmap\n",
    "import numpy as np\n",
    "from bokeh.embed import file_html\n",
    "from bokeh.resources import CDN\n",
    "import time\n",
    "import threading\n",
    "\n",
    "app = Flask(__name__)\n",
    "\n",
    "def run_models():\n",
    "    global mean_interp, var_interp\n",
    "    \n",
    "    while True:\n",
    "        print(\"starting\")\n",
    "        predmeans, predvars, Xtest = gpmodel()\n",
    "        temp_interp = interp(predmeans, predvars, Xtest)\n",
    "        mean_interp, var_interp = temp_interp\n",
    "        print(\"finished\")\n",
    "        time.sleep(3600)\n",
    "        \n",
    "threading.Thread(target=run_models, name=\"interpolator\", daemon=True).start()        \n",
    "\n",
    "@app.route('/api',methods=['GET', 'POST'])\n",
    "def main():\n",
    "        \n",
    "    xstart = float(request.args[\"xstart\"])\n",
    "    xend = float(request.args[\"xend\"])\n",
    "    ystart = float(request.args[\"ystart\"])\n",
    "    yend = float(request.args[\"yend\"])\n",
    "    gridsize = int(request.args[\"gridsize\"])\n",
    "    \n",
    "    xnew = np.linspace(xstart, xend, gridsize)\n",
    "    ynew = np.linspace(ystart, yend, gridsize)\n",
    "    xgrid, ygrid = np.meshgrid(xnew,ynew)\n",
    "    xgrid = xgrid.reshape(np.square(gridsize)).tolist()\n",
    "    ygrid = ygrid.reshape(np.square(gridsize)).tolist()\n",
    "    \n",
    "    lon, lat = lonlat(xgrid, ygrid)\n",
    "    means = mean_interp(xnew,ynew)\n",
    "    vars = var_interp(xnew,ynew)\n",
    "    sizes = 150*np.log(1 + 300/np.sqrt(vars.reshape(np.square(gridsize)).tolist()))\n",
    "        \n",
    "    return jsonify({\"xgrid\": xgrid,\n",
    "                    \"ygrid\": ygrid,\n",
    "                    \"means\": means.reshape(np.square(gridsize)).tolist(),\n",
    "                    \"vars\": vars.reshape(np.square(gridsize)).tolist(),\n",
    "                    \"lon\": lon,\n",
    "                    \"lat\": lat,\n",
    "                    \"sizes\": sizes.tolist()})\n",
    "\n",
    "@app.route('/')\n",
    "def showmap():\n",
    "    map = getmap()\n",
    "    return file_html(map, CDN, \"Kampala\")"
   ]
  },
  {
   "cell_type": "code",
   "execution_count": 2,
   "metadata": {},
   "outputs": [
    {
     "data": {
      "text/plain": [
       "[<_MainThread(MainThread, started 97060)>,\n",
       " <Thread(Thread-4, started daemon 32212)>,\n",
       " <Heartbeat(Thread-5, started daemon 59228)>,\n",
       " <HistorySavingThread(IPythonHistorySavingThread, started 54308)>,\n",
       " <ParentPollerWindows(Thread-3, started daemon 67764)>]"
      ]
     },
     "execution_count": 2,
     "metadata": {},
     "output_type": "execute_result"
    }
   ],
   "source": [
    "threading.enumerate()"
   ]
  },
  {
   "cell_type": "code",
   "execution_count": 1,
   "metadata": {},
   "outputs": [],
   "source": [
    "import threading"
   ]
  },
  {
   "cell_type": "code",
   "execution_count": 4,
   "metadata": {},
   "outputs": [],
   "source": [
    "from gpmodel import gpmodel"
   ]
  },
  {
   "cell_type": "code",
   "execution_count": 1,
   "metadata": {},
   "outputs": [],
   "source": [
    "from getresponse import getresponse"
   ]
  },
  {
   "cell_type": "code",
   "execution_count": null,
   "metadata": {},
   "outputs": [],
   "source": []
  }
 ],
 "metadata": {
  "kernelspec": {
   "display_name": "Python 3",
   "language": "python",
   "name": "python3"
  },
  "language_info": {
   "codemirror_mode": {
    "name": "ipython",
    "version": 3
   },
   "file_extension": ".py",
   "mimetype": "text/x-python",
   "name": "python",
   "nbconvert_exporter": "python",
   "pygments_lexer": "ipython3",
   "version": "3.7.6"
  }
 },
 "nbformat": 4,
 "nbformat_minor": 4
}
