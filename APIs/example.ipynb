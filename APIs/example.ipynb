{
 "cells": [
  {
   "cell_type": "code",
   "execution_count": 20,
   "metadata": {},
   "outputs": [],
   "source": [
    "import get_dataframe\n",
    "import pandas as pd\n",
    "import matplotlib.pyplot as plt\n",
    "cache_path = \"../../data/sensor_cache/\""
   ]
  },
  {
   "cell_type": "code",
   "execution_count": 2,
   "metadata": {},
   "outputs": [
    {
     "name": "stdout",
     "output_type": "stream",
     "text": [
      "All items returned\n"
     ]
    }
   ],
   "source": [
    "id = 672528\n",
    "get_dataframe.build_df(id, cache_path)"
   ]
  },
  {
   "cell_type": "code",
   "execution_count": 3,
   "metadata": {},
   "outputs": [],
   "source": [
    "feeds = get_dataframe.get_df(id, cache_path)"
   ]
  },
  {
   "cell_type": "code",
   "execution_count": 4,
   "metadata": {},
   "outputs": [
    {
     "data": {
      "text/html": [
       "<div>\n",
       "<style scoped>\n",
       "    .dataframe tbody tr th:only-of-type {\n",
       "        vertical-align: middle;\n",
       "    }\n",
       "\n",
       "    .dataframe tbody tr th {\n",
       "        vertical-align: top;\n",
       "    }\n",
       "\n",
       "    .dataframe thead th {\n",
       "        text-align: right;\n",
       "    }\n",
       "</style>\n",
       "<table border=\"1\" class=\"dataframe\">\n",
       "  <thead>\n",
       "    <tr style=\"text-align: right;\">\n",
       "      <th></th>\n",
       "      <th>entry_id</th>\n",
       "      <th>Sensor1 PM2.5_CF_1_ug/m3</th>\n",
       "      <th>Sensor1 PM10_CF_1_ug/m3</th>\n",
       "      <th>Sensor2PM2.5_CF_1_ug/m3</th>\n",
       "      <th>Sensor2 PM10_CF_1_ug/m3</th>\n",
       "      <th>Latitude</th>\n",
       "      <th>Longitude</th>\n",
       "      <th>Battery Voltage</th>\n",
       "      <th>GpsData</th>\n",
       "    </tr>\n",
       "    <tr>\n",
       "      <th>created_at</th>\n",
       "      <th></th>\n",
       "      <th></th>\n",
       "      <th></th>\n",
       "      <th></th>\n",
       "      <th></th>\n",
       "      <th></th>\n",
       "      <th></th>\n",
       "      <th></th>\n",
       "      <th></th>\n",
       "    </tr>\n",
       "  </thead>\n",
       "  <tbody>\n",
       "    <tr>\n",
       "      <td>2019-01-12T11:57:32Z</td>\n",
       "      <td>1</td>\n",
       "      <td>23.17</td>\n",
       "      <td>25.67</td>\n",
       "      <td>16.25</td>\n",
       "      <td>16.72</td>\n",
       "      <td>0.0</td>\n",
       "      <td>0.0</td>\n",
       "      <td>3.94</td>\n",
       "      <td>0.000000,0.000000,,~�7�!,����k����[�����4W`M�~...</td>\n",
       "    </tr>\n",
       "    <tr>\n",
       "      <td>2019-01-12T11:58:46Z</td>\n",
       "      <td>2</td>\n",
       "      <td>25.68</td>\n",
       "      <td>27.52</td>\n",
       "      <td>18.27</td>\n",
       "      <td>18.32</td>\n",
       "      <td>1000.0</td>\n",
       "      <td>1000.0</td>\n",
       "      <td>NaN</td>\n",
       "      <td>1000.000000,1000.000000,!�!�\u000en\\n,�!,�k����[���...</td>\n",
       "    </tr>\n",
       "    <tr>\n",
       "      <td>2019-01-12T11:59:58Z</td>\n",
       "      <td>3</td>\n",
       "      <td>23.58</td>\n",
       "      <td>25.57</td>\n",
       "      <td>17.57</td>\n",
       "      <td>17.63</td>\n",
       "      <td>1000.0</td>\n",
       "      <td>1000.0</td>\n",
       "      <td>�!</td>\n",
       "      <td>1000.000000,1000.000000,,~�7�!,����k����[�����...</td>\n",
       "    </tr>\n",
       "    <tr>\n",
       "      <td>2019-01-12T12:01:11Z</td>\n",
       "      <td>4</td>\n",
       "      <td>22.42</td>\n",
       "      <td>23.87</td>\n",
       "      <td>15.63</td>\n",
       "      <td>17.68</td>\n",
       "      <td>1000.0</td>\n",
       "      <td>1000.0</td>\n",
       "      <td>NaN</td>\n",
       "      <td>1000.000000,1000.000000,!�!�\u000en\\n,�!,�k����[���...</td>\n",
       "    </tr>\n",
       "    <tr>\n",
       "      <td>2019-01-12T12:02:32Z</td>\n",
       "      <td>5</td>\n",
       "      <td>17.25</td>\n",
       "      <td>17.50</td>\n",
       "      <td>15.37</td>\n",
       "      <td>17.65</td>\n",
       "      <td>1000.0</td>\n",
       "      <td>1000.0</td>\n",
       "      <td>�!</td>\n",
       "      <td>1000.000000,1000.000000,,~�7�!,����k����[�����...</td>\n",
       "    </tr>\n",
       "  </tbody>\n",
       "</table>\n",
       "</div>"
      ],
      "text/plain": [
       "                      entry_id  Sensor1 PM2.5_CF_1_ug/m3  \\\n",
       "created_at                                                 \n",
       "2019-01-12T11:57:32Z         1                     23.17   \n",
       "2019-01-12T11:58:46Z         2                     25.68   \n",
       "2019-01-12T11:59:58Z         3                     23.58   \n",
       "2019-01-12T12:01:11Z         4                     22.42   \n",
       "2019-01-12T12:02:32Z         5                     17.25   \n",
       "\n",
       "                      Sensor1 PM10_CF_1_ug/m3  Sensor2PM2.5_CF_1_ug/m3  \\\n",
       "created_at                                                               \n",
       "2019-01-12T11:57:32Z                    25.67                    16.25   \n",
       "2019-01-12T11:58:46Z                    27.52                    18.27   \n",
       "2019-01-12T11:59:58Z                    25.57                    17.57   \n",
       "2019-01-12T12:01:11Z                    23.87                    15.63   \n",
       "2019-01-12T12:02:32Z                    17.50                    15.37   \n",
       "\n",
       "                      Sensor2 PM10_CF_1_ug/m3  Latitude  Longitude  \\\n",
       "created_at                                                           \n",
       "2019-01-12T11:57:32Z                    16.72       0.0        0.0   \n",
       "2019-01-12T11:58:46Z                    18.32    1000.0     1000.0   \n",
       "2019-01-12T11:59:58Z                    17.63    1000.0     1000.0   \n",
       "2019-01-12T12:01:11Z                    17.68    1000.0     1000.0   \n",
       "2019-01-12T12:02:32Z                    17.65    1000.0     1000.0   \n",
       "\n",
       "                     Battery Voltage  \\\n",
       "created_at                             \n",
       "2019-01-12T11:57:32Z            3.94   \n",
       "2019-01-12T11:58:46Z             NaN   \n",
       "2019-01-12T11:59:58Z              �!   \n",
       "2019-01-12T12:01:11Z             NaN   \n",
       "2019-01-12T12:02:32Z              �!   \n",
       "\n",
       "                                                                GpsData  \n",
       "created_at                                                               \n",
       "2019-01-12T11:57:32Z  0.000000,0.000000,,~�7�!,����k����[�����4W`M�~...  \n",
       "2019-01-12T11:58:46Z  1000.000000,1000.000000,!�!�\u000en\\n,�!,�k����[���...  \n",
       "2019-01-12T11:59:58Z  1000.000000,1000.000000,,~�7�!,����k����[�����...  \n",
       "2019-01-12T12:01:11Z  1000.000000,1000.000000,!�!�\u000en\\n,�!,�k����[���...  \n",
       "2019-01-12T12:02:32Z  1000.000000,1000.000000,,~�7�!,����k����[�����...  "
      ]
     },
     "execution_count": 4,
     "metadata": {},
     "output_type": "execute_result"
    },
    {
     "data": {
      "text/html": [
       "<div>\n",
       "<style scoped>\n",
       "    .dataframe tbody tr th:only-of-type {\n",
       "        vertical-align: middle;\n",
       "    }\n",
       "\n",
       "    .dataframe tbody tr th {\n",
       "        vertical-align: top;\n",
       "    }\n",
       "\n",
       "    .dataframe thead th {\n",
       "        text-align: right;\n",
       "    }\n",
       "</style>\n",
       "<table border=\"1\" class=\"dataframe\">\n",
       "  <thead>\n",
       "    <tr style=\"text-align: right;\">\n",
       "      <th></th>\n",
       "      <th>entry_id</th>\n",
       "      <th>Sensor1 PM2.5_CF_1_ug/m3</th>\n",
       "      <th>Sensor1 PM10_CF_1_ug/m3</th>\n",
       "      <th>Sensor2PM2.5_CF_1_ug/m3</th>\n",
       "      <th>Sensor2 PM10_CF_1_ug/m3</th>\n",
       "      <th>Latitude</th>\n",
       "      <th>Longitude</th>\n",
       "      <th>Battery Voltage</th>\n",
       "      <th>GpsData</th>\n",
       "    </tr>\n",
       "    <tr>\n",
       "      <th>created_at</th>\n",
       "      <th></th>\n",
       "      <th></th>\n",
       "      <th></th>\n",
       "      <th></th>\n",
       "      <th></th>\n",
       "      <th></th>\n",
       "      <th></th>\n",
       "      <th></th>\n",
       "      <th></th>\n",
       "    </tr>\n",
       "  </thead>\n",
       "  <tbody>\n",
       "    <tr>\n",
       "      <td>2020-02-19T10:07:57Z</td>\n",
       "      <td>146281</td>\n",
       "      <td>17.12</td>\n",
       "      <td>17.47</td>\n",
       "      <td>14.95</td>\n",
       "      <td>15.45</td>\n",
       "      <td>-0.265452</td>\n",
       "      <td>30.107008</td>\n",
       "      <td>4.05</td>\n",
       "      <td>-0.265452,30.107008,1317.80,0.03,10.00,84.00,2...</td>\n",
       "    </tr>\n",
       "    <tr>\n",
       "      <td>2020-02-19T10:09:27Z</td>\n",
       "      <td>146282</td>\n",
       "      <td>20.08</td>\n",
       "      <td>20.47</td>\n",
       "      <td>20.65</td>\n",
       "      <td>21.32</td>\n",
       "      <td>-0.265417</td>\n",
       "      <td>30.107012</td>\n",
       "      <td>4.05</td>\n",
       "      <td>-0.265417,30.107012,1328.30,0.03,10.00,79.00,2...</td>\n",
       "    </tr>\n",
       "    <tr>\n",
       "      <td>2020-02-19T10:10:48Z</td>\n",
       "      <td>146283</td>\n",
       "      <td>17.38</td>\n",
       "      <td>17.67</td>\n",
       "      <td>15.58</td>\n",
       "      <td>16.32</td>\n",
       "      <td>-0.265417</td>\n",
       "      <td>30.107002</td>\n",
       "      <td>4.06</td>\n",
       "      <td>-0.265417,30.107002,1329.00,0.03,10.00,86.00,2...</td>\n",
       "    </tr>\n",
       "    <tr>\n",
       "      <td>2020-02-19T10:12:09Z</td>\n",
       "      <td>146284</td>\n",
       "      <td>16.97</td>\n",
       "      <td>17.47</td>\n",
       "      <td>17.58</td>\n",
       "      <td>18.40</td>\n",
       "      <td>-0.265445</td>\n",
       "      <td>30.106983</td>\n",
       "      <td>4.05</td>\n",
       "      <td>-0.265445,30.106983,1319.30,0.03,9.00,87.00,22...</td>\n",
       "    </tr>\n",
       "    <tr>\n",
       "      <td>2020-02-19T10:13:29Z</td>\n",
       "      <td>146285</td>\n",
       "      <td>15.78</td>\n",
       "      <td>16.38</td>\n",
       "      <td>15.88</td>\n",
       "      <td>16.55</td>\n",
       "      <td>-0.265439</td>\n",
       "      <td>30.107000</td>\n",
       "      <td>4.06</td>\n",
       "      <td>-0.265439,30.107000,1314.80,0.03,9.00,100.00,2...</td>\n",
       "    </tr>\n",
       "  </tbody>\n",
       "</table>\n",
       "</div>"
      ],
      "text/plain": [
       "                      entry_id  Sensor1 PM2.5_CF_1_ug/m3  \\\n",
       "created_at                                                 \n",
       "2020-02-19T10:07:57Z    146281                     17.12   \n",
       "2020-02-19T10:09:27Z    146282                     20.08   \n",
       "2020-02-19T10:10:48Z    146283                     17.38   \n",
       "2020-02-19T10:12:09Z    146284                     16.97   \n",
       "2020-02-19T10:13:29Z    146285                     15.78   \n",
       "\n",
       "                      Sensor1 PM10_CF_1_ug/m3  Sensor2PM2.5_CF_1_ug/m3  \\\n",
       "created_at                                                               \n",
       "2020-02-19T10:07:57Z                    17.47                    14.95   \n",
       "2020-02-19T10:09:27Z                    20.47                    20.65   \n",
       "2020-02-19T10:10:48Z                    17.67                    15.58   \n",
       "2020-02-19T10:12:09Z                    17.47                    17.58   \n",
       "2020-02-19T10:13:29Z                    16.38                    15.88   \n",
       "\n",
       "                      Sensor2 PM10_CF_1_ug/m3  Latitude  Longitude  \\\n",
       "created_at                                                           \n",
       "2020-02-19T10:07:57Z                    15.45 -0.265452  30.107008   \n",
       "2020-02-19T10:09:27Z                    21.32 -0.265417  30.107012   \n",
       "2020-02-19T10:10:48Z                    16.32 -0.265417  30.107002   \n",
       "2020-02-19T10:12:09Z                    18.40 -0.265445  30.106983   \n",
       "2020-02-19T10:13:29Z                    16.55 -0.265439  30.107000   \n",
       "\n",
       "                     Battery Voltage  \\\n",
       "created_at                             \n",
       "2020-02-19T10:07:57Z            4.05   \n",
       "2020-02-19T10:09:27Z            4.05   \n",
       "2020-02-19T10:10:48Z            4.06   \n",
       "2020-02-19T10:12:09Z            4.05   \n",
       "2020-02-19T10:13:29Z            4.06   \n",
       "\n",
       "                                                                GpsData  \n",
       "created_at                                                               \n",
       "2020-02-19T10:07:57Z  -0.265452,30.107008,1317.80,0.03,10.00,84.00,2...  \n",
       "2020-02-19T10:09:27Z  -0.265417,30.107012,1328.30,0.03,10.00,79.00,2...  \n",
       "2020-02-19T10:10:48Z  -0.265417,30.107002,1329.00,0.03,10.00,86.00,2...  \n",
       "2020-02-19T10:12:09Z  -0.265445,30.106983,1319.30,0.03,9.00,87.00,22...  \n",
       "2020-02-19T10:13:29Z  -0.265439,30.107000,1314.80,0.03,9.00,100.00,2...  "
      ]
     },
     "execution_count": 4,
     "metadata": {},
     "output_type": "execute_result"
    }
   ],
   "source": [
    "feeds.head()\n",
    "feeds.tail()"
   ]
  },
  {
   "cell_type": "code",
   "execution_count": 5,
   "metadata": {},
   "outputs": [],
   "source": [
    "pm_data = get_dataframe.get_pollution(feeds)"
   ]
  },
  {
   "cell_type": "code",
   "execution_count": 6,
   "metadata": {},
   "outputs": [
    {
     "data": {
      "text/html": [
       "<div>\n",
       "<style scoped>\n",
       "    .dataframe tbody tr th:only-of-type {\n",
       "        vertical-align: middle;\n",
       "    }\n",
       "\n",
       "    .dataframe tbody tr th {\n",
       "        vertical-align: top;\n",
       "    }\n",
       "\n",
       "    .dataframe thead th {\n",
       "        text-align: right;\n",
       "    }\n",
       "</style>\n",
       "<table border=\"1\" class=\"dataframe\">\n",
       "  <thead>\n",
       "    <tr style=\"text-align: right;\">\n",
       "      <th></th>\n",
       "      <th></th>\n",
       "      <th>PM10</th>\n",
       "      <th>PM2.5</th>\n",
       "    </tr>\n",
       "    <tr>\n",
       "      <th>created_at</th>\n",
       "      <th>sensortype</th>\n",
       "      <th></th>\n",
       "      <th></th>\n",
       "    </tr>\n",
       "  </thead>\n",
       "  <tbody>\n",
       "    <tr>\n",
       "      <td rowspan=\"2\" valign=\"top\">2019-01-12 11:57:32+00:00</td>\n",
       "      <td>Sensor1</td>\n",
       "      <td>25.67</td>\n",
       "      <td>23.17</td>\n",
       "    </tr>\n",
       "    <tr>\n",
       "      <td>Sensor2</td>\n",
       "      <td>16.72</td>\n",
       "      <td>16.25</td>\n",
       "    </tr>\n",
       "    <tr>\n",
       "      <td rowspan=\"2\" valign=\"top\">2019-01-12 11:58:46+00:00</td>\n",
       "      <td>Sensor1</td>\n",
       "      <td>27.52</td>\n",
       "      <td>25.68</td>\n",
       "    </tr>\n",
       "    <tr>\n",
       "      <td>Sensor2</td>\n",
       "      <td>18.32</td>\n",
       "      <td>18.27</td>\n",
       "    </tr>\n",
       "    <tr>\n",
       "      <td>2019-01-12 11:59:58+00:00</td>\n",
       "      <td>Sensor1</td>\n",
       "      <td>25.57</td>\n",
       "      <td>23.58</td>\n",
       "    </tr>\n",
       "  </tbody>\n",
       "</table>\n",
       "</div>"
      ],
      "text/plain": [
       "                                       PM10  PM2.5\n",
       "created_at                sensortype              \n",
       "2019-01-12 11:57:32+00:00 Sensor1     25.67  23.17\n",
       "                          Sensor2     16.72  16.25\n",
       "2019-01-12 11:58:46+00:00 Sensor1     27.52  25.68\n",
       "                          Sensor2     18.32  18.27\n",
       "2019-01-12 11:59:58+00:00 Sensor1     25.57  23.58"
      ]
     },
     "execution_count": 6,
     "metadata": {},
     "output_type": "execute_result"
    },
    {
     "data": {
      "text/html": [
       "<div>\n",
       "<style scoped>\n",
       "    .dataframe tbody tr th:only-of-type {\n",
       "        vertical-align: middle;\n",
       "    }\n",
       "\n",
       "    .dataframe tbody tr th {\n",
       "        vertical-align: top;\n",
       "    }\n",
       "\n",
       "    .dataframe thead th {\n",
       "        text-align: right;\n",
       "    }\n",
       "</style>\n",
       "<table border=\"1\" class=\"dataframe\">\n",
       "  <thead>\n",
       "    <tr style=\"text-align: right;\">\n",
       "      <th></th>\n",
       "      <th></th>\n",
       "      <th>PM10</th>\n",
       "      <th>PM2.5</th>\n",
       "    </tr>\n",
       "    <tr>\n",
       "      <th>created_at</th>\n",
       "      <th>sensortype</th>\n",
       "      <th></th>\n",
       "      <th></th>\n",
       "    </tr>\n",
       "  </thead>\n",
       "  <tbody>\n",
       "    <tr>\n",
       "      <td>2020-02-19 10:10:48+00:00</td>\n",
       "      <td>Sensor2</td>\n",
       "      <td>16.32</td>\n",
       "      <td>15.58</td>\n",
       "    </tr>\n",
       "    <tr>\n",
       "      <td rowspan=\"2\" valign=\"top\">2020-02-19 10:12:09+00:00</td>\n",
       "      <td>Sensor1</td>\n",
       "      <td>17.47</td>\n",
       "      <td>16.97</td>\n",
       "    </tr>\n",
       "    <tr>\n",
       "      <td>Sensor2</td>\n",
       "      <td>18.40</td>\n",
       "      <td>17.58</td>\n",
       "    </tr>\n",
       "    <tr>\n",
       "      <td rowspan=\"2\" valign=\"top\">2020-02-19 10:13:29+00:00</td>\n",
       "      <td>Sensor1</td>\n",
       "      <td>16.38</td>\n",
       "      <td>15.78</td>\n",
       "    </tr>\n",
       "    <tr>\n",
       "      <td>Sensor2</td>\n",
       "      <td>16.55</td>\n",
       "      <td>15.88</td>\n",
       "    </tr>\n",
       "  </tbody>\n",
       "</table>\n",
       "</div>"
      ],
      "text/plain": [
       "                                       PM10  PM2.5\n",
       "created_at                sensortype              \n",
       "2020-02-19 10:10:48+00:00 Sensor2     16.32  15.58\n",
       "2020-02-19 10:12:09+00:00 Sensor1     17.47  16.97\n",
       "                          Sensor2     18.40  17.58\n",
       "2020-02-19 10:13:29+00:00 Sensor1     16.38  15.78\n",
       "                          Sensor2     16.55  15.88"
      ]
     },
     "execution_count": 6,
     "metadata": {},
     "output_type": "execute_result"
    }
   ],
   "source": [
    "pm_data.head()\n",
    "pm_data.tail()"
   ]
  },
  {
   "cell_type": "code",
   "execution_count": 29,
   "metadata": {},
   "outputs": [],
   "source": [
    "sensor_hourly = pm_data.drop(\"PM10\", axis=1)\n",
    "sensor_hourly = sensor_hourly.groupby(\"sensortype\")[\"PM2.5\"].resample(\"H\", level=0).mean()"
   ]
  },
  {
   "cell_type": "code",
   "execution_count": 30,
   "metadata": {},
   "outputs": [
    {
     "data": {
      "text/plain": [
       "<matplotlib.collections.PathCollection at 0x1e778750748>"
      ]
     },
     "execution_count": 30,
     "metadata": {},
     "output_type": "execute_result"
    },
    {
     "data": {
      "image/png": "[encoded data removed]",
      "text/plain": [
       "<Figure size 432x288 with 1 Axes>"
      ]
     },
     "metadata": {
      "needs_background": "light"
     },
     "output_type": "display_data"
    }
   ],
   "source": [
    "plt.scatter(sensor_hourly[\"Sensor1\"].index, sensor_hourly[\"Sensor1\"])\n"
   ]
  },
  {
   "cell_type": "code",
   "execution_count": 41,
   "metadata": {},
   "outputs": [
    {
     "data": {
      "text/plain": [
       "<matplotlib.collections.PathCollection at 0x1e779564148>"
      ]
     },
     "execution_count": 41,
     "metadata": {},
     "output_type": "execute_result"
    },
    {
     "data": {
      "text/plain": [
       "<matplotlib.collections.PathCollection at 0x1e7785b6648>"
      ]
     },
     "execution_count": 41,
     "metadata": {},
     "output_type": "execute_result"
    },
    {
     "data": {
      "image/png": "[encoded data removed]",
      "text/plain": [
       "<Figure size 432x288 with 1 Axes>"
      ]
     },
     "metadata": {
      "needs_background": "light"
     },
     "output_type": "display_data"
    }
   ],
   "source": [
    "plt.scatter(sensor_hourly[\"Sensor1\"][\"2019-12\"].index, \n",
    "            sensor_hourly[\"Sensor1\"][\"2019-12\"])\n",
    "plt.scatter(sensor_hourly[\"Sensor2\"][\"2019-12\"].index, \n",
    "            sensor_hourly[\"Sensor2\"][\"2019-12\"])"
   ]
  },
  {
   "cell_type": "code",
   "execution_count": 42,
   "metadata": {},
   "outputs": [
    {
     "data": {
      "text/plain": [
       "<matplotlib.collections.PathCollection at 0x1e7798e01c8>"
      ]
     },
     "execution_count": 42,
     "metadata": {},
     "output_type": "execute_result"
    },
    {
     "data": {
      "image/png": "[encoded data removed]",
      "text/plain": [
       "<Figure size 432x288 with 1 Axes>"
      ]
     },
     "metadata": {
      "needs_background": "light"
     },
     "output_type": "display_data"
    }
   ],
   "source": [
    "plt.scatter(sensor_hourly[\"Sensor1\"], \n",
    "            sensor_hourly[\"Sensor2\"])"
   ]
  },
  {
   "cell_type": "code",
   "execution_count": null,
   "metadata": {},
   "outputs": [],
   "source": []
  }
 ],
 "metadata": {
  "kernelspec": {
   "display_name": "Python 3",
   "language": "python",
   "name": "python3"
  },
  "language_info": {
   "codemirror_mode": {
    "name": "ipython",
    "version": 3
   },
   "file_extension": ".py",
   "mimetype": "text/x-python",
   "name": "python",
   "nbconvert_exporter": "python",
   "pygments_lexer": "ipython3",
   "version": "3.7.4"
  },
  "toc": {
   "base_numbering": 1,
   "nav_menu": {},
   "number_sections": true,
   "sideBar": true,
   "skip_h1_title": false,
   "title_cell": "Table of Contents",
   "title_sidebar": "Contents",
   "toc_cell": false,
   "toc_position": {},
   "toc_section_display": true,
   "toc_window_display": false
  },
  "varInspector": {
   "cols": {
    "lenName": 16,
    "lenType": 16,
    "lenVar": 40
   },
   "kernels_config": {
    "python": {
     "delete_cmd_postfix": "",
     "delete_cmd_prefix": "del ",
     "library": "var_list.py",
     "varRefreshCmd": "print(var_dic_list())"
    },
    "r": {
     "delete_cmd_postfix": ") ",
     "delete_cmd_prefix": "rm(",
     "library": "var_list.r",
     "varRefreshCmd": "cat(var_dic_list()) "
    }
   },
   "types_to_exclude": [
    "module",
    "function",
    "builtin_function_or_method",
    "instance",
    "_Feature"
   ],
   "window_display": false
  }
 },
 "nbformat": 4,
 "nbformat_minor": 2
}
