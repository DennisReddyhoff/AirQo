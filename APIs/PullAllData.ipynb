{
 "cells": [
  {
   "cell_type": "code",
   "execution_count": 1,
   "metadata": {},
   "outputs": [],
   "source": [
    "import get_thingspeak"
   ]
  },
  {
   "cell_type": "code",
   "execution_count": 2,
   "metadata": {},
   "outputs": [
    {
     "name": "stdout",
     "output_type": "stream",
     "text": [
      "All items returned\n"
     ]
    }
   ],
   "source": [
    "feeds = get_thingspeak.feed_data(870146)"
   ]
  },
  {
   "cell_type": "code",
   "execution_count": 4,
   "metadata": {},
   "outputs": [
    {
     "data": {
      "text/html": [
       "<div>\n",
       "<style scoped>\n",
       "    .dataframe tbody tr th:only-of-type {\n",
       "        vertical-align: middle;\n",
       "    }\n",
       "\n",
       "    .dataframe tbody tr th {\n",
       "        vertical-align: top;\n",
       "    }\n",
       "\n",
       "    .dataframe thead th {\n",
       "        text-align: right;\n",
       "    }\n",
       "</style>\n",
       "<table border=\"1\" class=\"dataframe\">\n",
       "  <thead>\n",
       "    <tr style=\"text-align: right;\">\n",
       "      <th></th>\n",
       "      <th>entry_id</th>\n",
       "      <th>Sensor1 PM2.5_CF_1_ug/m3</th>\n",
       "      <th>Sensor1 PM10_CF_1_ug/m3</th>\n",
       "      <th>Sensor2PM2.5_CF_1_ug/m3</th>\n",
       "      <th>Sensor2 PM10_CF_1_ug/m3</th>\n",
       "      <th>Latitude</th>\n",
       "      <th>Longitude</th>\n",
       "      <th>Battery Voltage</th>\n",
       "      <th>GpsData</th>\n",
       "    </tr>\n",
       "    <tr>\n",
       "      <th>created_at</th>\n",
       "      <th></th>\n",
       "      <th></th>\n",
       "      <th></th>\n",
       "      <th></th>\n",
       "      <th></th>\n",
       "      <th></th>\n",
       "      <th></th>\n",
       "      <th></th>\n",
       "      <th></th>\n",
       "    </tr>\n",
       "  </thead>\n",
       "  <tbody>\n",
       "    <tr>\n",
       "      <td>2019-09-23T14:32:18Z</td>\n",
       "      <td>1</td>\n",
       "      <td>43.95</td>\n",
       "      <td>54.10</td>\n",
       "      <td>46.20</td>\n",
       "      <td>58.57</td>\n",
       "      <td>0.000000</td>\n",
       "      <td>0.000000</td>\n",
       "      <td>4.14</td>\n",
       "      <td>0.000000,0.000000,  0.00,0.00,0.00,0.00,0.00,0.00</td>\n",
       "    </tr>\n",
       "    <tr>\n",
       "      <td>2019-09-23T14:33:25Z</td>\n",
       "      <td>2</td>\n",
       "      <td>42.37</td>\n",
       "      <td>52.85</td>\n",
       "      <td>45.65</td>\n",
       "      <td>56.45</td>\n",
       "      <td>1000.000000</td>\n",
       "      <td>1000.000000</td>\n",
       "      <td>4.20</td>\n",
       "      <td>1000.000000,1000.000000,1000000.00,-1.00,255.0...</td>\n",
       "    </tr>\n",
       "    <tr>\n",
       "      <td>2019-09-23T14:34:43Z</td>\n",
       "      <td>3</td>\n",
       "      <td>42.65</td>\n",
       "      <td>52.87</td>\n",
       "      <td>45.50</td>\n",
       "      <td>56.78</td>\n",
       "      <td>1000.000000</td>\n",
       "      <td>1000.000000</td>\n",
       "      <td>4.19</td>\n",
       "      <td>1000.000000,1000.000000,1000000.00,-1.00,255.0...</td>\n",
       "    </tr>\n",
       "    <tr>\n",
       "      <td>2019-09-23T14:35:55Z</td>\n",
       "      <td>4</td>\n",
       "      <td>42.70</td>\n",
       "      <td>54.05</td>\n",
       "      <td>45.05</td>\n",
       "      <td>55.85</td>\n",
       "      <td>1000.000000</td>\n",
       "      <td>1000.000000</td>\n",
       "      <td>4.19</td>\n",
       "      <td>1000.000000,1000.000000,1000000.00,-1.00,255.0...</td>\n",
       "    </tr>\n",
       "    <tr>\n",
       "      <td>2019-09-23T14:37:22Z</td>\n",
       "      <td>5</td>\n",
       "      <td>42.28</td>\n",
       "      <td>51.45</td>\n",
       "      <td>44.42</td>\n",
       "      <td>55.60</td>\n",
       "      <td>1000.000000</td>\n",
       "      <td>1000.000000</td>\n",
       "      <td>4.16</td>\n",
       "      <td>1000.000000,1000.000000,1000000.00,-1.00,255.0...</td>\n",
       "    </tr>\n",
       "  </tbody>\n",
       "</table>\n",
       "</div>"
      ],
      "text/plain": [
       "                      entry_id Sensor1 PM2.5_CF_1_ug/m3  \\\n",
       "created_at                                                \n",
       "2019-09-23T14:32:18Z         1                    43.95   \n",
       "2019-09-23T14:33:25Z         2                    42.37   \n",
       "2019-09-23T14:34:43Z         3                    42.65   \n",
       "2019-09-23T14:35:55Z         4                    42.70   \n",
       "2019-09-23T14:37:22Z         5                    42.28   \n",
       "\n",
       "                     Sensor1 PM10_CF_1_ug/m3 Sensor2PM2.5_CF_1_ug/m3  \\\n",
       "created_at                                                             \n",
       "2019-09-23T14:32:18Z                   54.10                   46.20   \n",
       "2019-09-23T14:33:25Z                   52.85                   45.65   \n",
       "2019-09-23T14:34:43Z                   52.87                   45.50   \n",
       "2019-09-23T14:35:55Z                   54.05                   45.05   \n",
       "2019-09-23T14:37:22Z                   51.45                   44.42   \n",
       "\n",
       "                     Sensor2 PM10_CF_1_ug/m3     Latitude    Longitude  \\\n",
       "created_at                                                               \n",
       "2019-09-23T14:32:18Z                   58.57     0.000000     0.000000   \n",
       "2019-09-23T14:33:25Z                   56.45  1000.000000  1000.000000   \n",
       "2019-09-23T14:34:43Z                   56.78  1000.000000  1000.000000   \n",
       "2019-09-23T14:35:55Z                   55.85  1000.000000  1000.000000   \n",
       "2019-09-23T14:37:22Z                   55.60  1000.000000  1000.000000   \n",
       "\n",
       "                     Battery Voltage  \\\n",
       "created_at                             \n",
       "2019-09-23T14:32:18Z            4.14   \n",
       "2019-09-23T14:33:25Z            4.20   \n",
       "2019-09-23T14:34:43Z            4.19   \n",
       "2019-09-23T14:35:55Z            4.19   \n",
       "2019-09-23T14:37:22Z            4.16   \n",
       "\n",
       "                                                                GpsData  \n",
       "created_at                                                               \n",
       "2019-09-23T14:32:18Z  0.000000,0.000000,  0.00,0.00,0.00,0.00,0.00,0.00  \n",
       "2019-09-23T14:33:25Z  1000.000000,1000.000000,1000000.00,-1.00,255.0...  \n",
       "2019-09-23T14:34:43Z  1000.000000,1000.000000,1000000.00,-1.00,255.0...  \n",
       "2019-09-23T14:35:55Z  1000.000000,1000.000000,1000000.00,-1.00,255.0...  \n",
       "2019-09-23T14:37:22Z  1000.000000,1000.000000,1000000.00,-1.00,255.0...  "
      ]
     },
     "execution_count": 4,
     "metadata": {},
     "output_type": "execute_result"
    }
   ],
   "source": [
    "feeds.head()"
   ]
  },
  {
   "cell_type": "code",
   "execution_count": null,
   "metadata": {},
   "outputs": [],
   "source": [
    "feeds.tail()"
   ]
  }
 ],
 "metadata": {
  "kernelspec": {
   "display_name": "Python 3",
   "language": "python",
   "name": "python3"
  },
  "language_info": {
   "codemirror_mode": {
    "name": "ipython",
    "version": 3
   },
   "file_extension": ".py",
   "mimetype": "text/x-python",
   "name": "python",
   "nbconvert_exporter": "python",
   "pygments_lexer": "ipython3",
   "version": "3.7.4"
  },
  "toc": {
   "base_numbering": 1,
   "nav_menu": {},
   "number_sections": true,
   "sideBar": true,
   "skip_h1_title": false,
   "title_cell": "Table of Contents",
   "title_sidebar": "Contents",
   "toc_cell": false,
   "toc_position": {},
   "toc_section_display": true,
   "toc_window_display": false
  },
  "varInspector": {
   "cols": {
    "lenName": 16,
    "lenType": 16,
    "lenVar": 40
   },
   "kernels_config": {
    "python": {
     "delete_cmd_postfix": "",
     "delete_cmd_prefix": "del ",
     "library": "var_list.py",
     "varRefreshCmd": "print(var_dic_list())"
    },
    "r": {
     "delete_cmd_postfix": ") ",
     "delete_cmd_prefix": "rm(",
     "library": "var_list.r",
     "varRefreshCmd": "cat(var_dic_list()) "
    }
   },
   "types_to_exclude": [
    "module",
    "function",
    "builtin_function_or_method",
    "instance",
    "_Feature"
   ],
   "window_display": false
  }
 },
 "nbformat": 4,
 "nbformat_minor": 2
}
