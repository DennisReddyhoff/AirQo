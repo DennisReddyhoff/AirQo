{
 "cells": [
  {
   "cell_type": "code",
   "execution_count": 3,
   "metadata": {},
   "outputs": [],
   "source": [
    "import requests\n",
    "import json\n",
    "import pandas as pd\n",
    "import time\n",
    "from datetime import datetime, timedelta\n",
    "import dateutil.parser\n",
    "import fnmatch\n",
    "from IPython.core.display import clear_output\n"
   ]
  },
  {
   "cell_type": "code",
   "execution_count": 4,
   "metadata": {
    "code_folding": []
   },
   "outputs": [],
   "source": [
    "def build_df(sensor_id, cache=\"/\"):\n",
    "\n",
    "    try:\n",
    "        feeds = pd.read_csv(cache + str(sensor_id) + \".csv\", \n",
    "                            index_col=\"created_at\")\n",
    "        last_entry = feeds.index[-1][:-1].replace(\"T\", \"%20\")\n",
    "        try:\n",
    "            new_feeds = feed_data(sensor_id, last_entry)\n",
    "            feeds = pd.concat([feeds, new_feeds[1:]])\n",
    "        except AssertionError:\n",
    "            print(\"No new records.\")\n",
    "        feeds.to_csv(cache + str(sensor_id) + \".csv\")\n",
    "    except FileNotFoundError:\n",
    "        feeds = feed_data(sensor_id)\n",
    "        feeds.to_csv(cache + str(sensor_id) + \".csv\")"
   ]
  },
  {
   "cell_type": "code",
   "execution_count": 13,
   "metadata": {},
   "outputs": [],
   "source": [
    "def get_responses(sensor_id, start_date = \"\", end_date = \"\"):\n",
    "    \n",
    "    page_no = 1  # Page no. to keep count\n",
    "    responses = []\n",
    "    url = \"https://api.thingspeak.com/channels/{}/feeds.json?results={}&start={}&end={}\"\n",
    "    \n",
    "    while True:\n",
    "        # Outputs page number and then clears output\n",
    "        print(\"Requesting page {}\".format(page_no))\n",
    "        clear_output(wait=True)\n",
    "        page_no += 1\n",
    "\n",
    "        r = requests.get(url.format(sensor_id, \"8000\", start_date, end_date))\n",
    "        responses.append(r)\n",
    "\n",
    "        # Return error code if API request fails\n",
    "        if r.status_code != 200:\n",
    "            print(r.text)\n",
    "            break\n",
    "\n",
    "        # If less than 8000 observations are returned, all data points\n",
    "        # are downloaded and loop ends with message to user\n",
    "        assert len(r.json()[\"feeds\"]) > 0, \"No new entries\"\n",
    "                    \n",
    "        if len(r.json()[\"feeds\"]) < 8000:\n",
    "            print(\"All items returned\")\n",
    "            return responses\n",
    "        elif bool(start_date) == True:\n",
    "            start_date = get_date(r, \"start\")\n",
    "            continue\n",
    "        else:\n",
    "            end_date = get_date(r, \"end\")\n",
    "            continue\n",
    "        "
   ]
  },
  {
   "cell_type": "code",
   "execution_count": 6,
   "metadata": {},
   "outputs": [],
   "source": [
    "def get_headers(feeds, responses):\n",
    "\n",
    "    # Find field column headers\n",
    "    matching = fnmatch.filter(feeds.columns, \"field*\")\n",
    "    headers = {}  # Initiate headers dict\n",
    "\n",
    "    # Compare header names with channel keys, which describes\n",
    "    # the returned field names. Populates headers with field\n",
    "    # headings descriptions from channel response\n",
    "    for i in matching:\n",
    "        if i in responses[0].json()[\"channel\"].keys():\n",
    "            headers[str(i)] = responses[0].json()[\"channel\"][str(i)]\n",
    "\n",
    "    # Rename columns\n",
    "    feeds = feeds.rename(headers, axis=\"columns\")\n",
    "\n",
    "    return(feeds)"
   ]
  },
  {
   "cell_type": "code",
   "execution_count": 22,
   "metadata": {
    "cell_style": "center"
   },
   "outputs": [],
   "source": [
    "def feed_data(sensor_id, last_entry=\"\"):\n",
    "    \"\"\"Gets all data points for a given sensor from ThingSpeak API and returns\n",
    "    them as a formatted Pandas dataframe. \n",
    "\n",
    "    Parameters\n",
    "    ----------\n",
    "    sensor_id : int\n",
    "        ID for sensor of interest, can be found at \n",
    "        https://forecast-dot-airqo-250220.appspot.com/api/v1/forecast/channels\n",
    "\n",
    "    Returns\n",
    "    -------\n",
    "    feeds : DataFrame\n",
    "        DataFrame of all responses for a given sensor from ThingSpeak API      \n",
    "    \"\"\"\n",
    "    \n",
    "    if last_entry == True:\n",
    "        step = 1\n",
    "    else:\n",
    "        step = -1\n",
    "\n",
    "    # Get list of responses from API\n",
    "    responses = get_responses(sensor_id, start_date=last_entry)\n",
    "    # Create data frame excluding last feed to avoid overlap\n",
    "    # List is created backwards from responses to be chronologically correct\n",
    "    frames = [pd.DataFrame(response.json()['feeds'])\n",
    "              for response in responses[::step]]\n",
    "    feeds = pd.concat(frames, ignore_index=True)\n",
    "    # Set row names as date of creation\n",
    "    feeds = feeds.set_index('created_at')\n",
    "    # Get headers from \"channel\" response\n",
    "    feeds = get_headers(feeds, responses)\n",
    "\n",
    "\n",
    "    return feeds"
   ]
  },
  {
   "cell_type": "code",
   "execution_count": 8,
   "metadata": {},
   "outputs": [],
   "source": [
    "def get_date(response, pos):\n",
    "    \n",
    "    if pos == \"start\":\n",
    "        idx = -1\n",
    "        delta = 1\n",
    "    elif pos == \"end\":\n",
    "        idx = 0\n",
    "        delta = -1\n",
    "        \n",
    "    date = response.json()[\"feeds\"][idx][\"created_at\"]\n",
    "    date = dateutil.parser.parse(date) + timedelta(seconds=delta)\n",
    "    \n",
    "    return date.strftime(\"%Y-%m-%d%%20%H:%M:%S\")"
   ]
  },
  {
   "cell_type": "code",
   "execution_count": 1,
   "metadata": {},
   "outputs": [],
   "source": [
    "def get_pollution(feeds_df):\n",
    "    \n",
    "    pm_df = feeds_df.drop([\"entry_id\", \n",
    "                    \"Latitude\", \n",
    "                    \"Longitude\", \n",
    "                    \"Battery Voltage\", \n",
    "                    \"GpsData\"], \n",
    "                    axis=1)\n",
    "    \n",
    "    pm_df.columns = [\"Sensor1 PM2.5\",\n",
    "                     \"Sensor1 PM10\",\n",
    "                     \"Sensor2 PM2.5\",\n",
    "                     \"Sensor2 PM10\"]\n",
    "    pm_df = pm_df.reset_index()\n",
    "    pm_df[\"created_at\"] = pd.to_datetime(pm_df[\"created_at\"])\n",
    "    \n",
    "    values = [pm_df.columns[i] for i in range(1,len(pm_df.columns))]\n",
    "    pm_df = pm_df.melt(id_vars=\"created_at\", \n",
    "                       value_vars=values, \n",
    "                       var_name=\"sensor\")\n",
    "    \n",
    "    split = pm_df[\"sensor\"].str.split(\" \", 1, expand=True)\n",
    "    pm_df.insert(1, column=\"pollutiontype\", value=split[1])\n",
    "    pm_df.insert(1, column=\"sensortype\", value=split[0])\n",
    "    pm_df = pm_df.drop(\"sensor\", axis=1)\n",
    "    \n",
    "    pm_df = pm_df.set_index([\"created_at\", \n",
    "                         \"sensortype\", \n",
    "                         \"pollutiontype\"])[\"value\"].unstack()\n",
    "    pm_df.columns.name = \"\"\n",
    "    \n",
    "    return pm_df"
   ]
  },
  {
   "cell_type": "code",
   "execution_count": null,
   "metadata": {},
   "outputs": [],
   "source": []
  }
 ],
 "metadata": {
  "kernelspec": {
   "display_name": "Python 3",
   "language": "python",
   "name": "python3"
  },
  "language_info": {
   "codemirror_mode": {
    "name": "ipython",
    "version": 3
   },
   "file_extension": ".py",
   "mimetype": "text/x-python",
   "name": "python",
   "nbconvert_exporter": "python",
   "pygments_lexer": "ipython3",
   "version": "3.7.6"
  },
  "toc": {
   "base_numbering": 1,
   "nav_menu": {},
   "number_sections": true,
   "sideBar": true,
   "skip_h1_title": false,
   "title_cell": "Table of Contents",
   "title_sidebar": "Contents",
   "toc_cell": false,
   "toc_position": {},
   "toc_section_display": true,
   "toc_window_display": false
  },
  "varInspector": {
   "cols": {
    "lenName": 16,
    "lenType": 16,
    "lenVar": 40
   },
   "kernels_config": {
    "python": {
     "delete_cmd_postfix": "",
     "delete_cmd_prefix": "del ",
     "library": "var_list.py",
     "varRefreshCmd": "print(var_dic_list())"
    },
    "r": {
     "delete_cmd_postfix": ") ",
     "delete_cmd_prefix": "rm(",
     "library": "var_list.r",
     "varRefreshCmd": "cat(var_dic_list()) "
    }
   },
   "types_to_exclude": [
    "module",
    "function",
    "builtin_function_or_method",
    "instance",
    "_Feature"
   ],
   "window_display": false
  }
 },
 "nbformat": 4,
 "nbformat_minor": 2
}
